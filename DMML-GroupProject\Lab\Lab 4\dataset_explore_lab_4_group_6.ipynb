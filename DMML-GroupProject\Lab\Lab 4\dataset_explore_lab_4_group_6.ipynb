{
  "nbformat": 4,
  "nbformat_minor": 0,
  "metadata": {
    "colab": {
      "provenance": [],
      "authorship_tag": "ABX9TyMYc/pRASHGVuy4qKmSpByl",
      "include_colab_link": true
    },
    "kernelspec": {
      "name": "python3",
      "display_name": "Python 3"
    },
    "language_info": {
      "name": "python"
    }
  },
  "cells": [
    {
      "cell_type": "markdown",
      "metadata": {
        "id": "view-in-github",
        "colab_type": "text"
      },
      "source": [
        "<a href=\"https://colab.research.google.com/github/farheenfab/DMML-GroupProject/blob/Ishaq/DMML-GroupProject%5CLab%5CLab%204%5Cdataset_explore_lab_4_group_6.ipynb\" target=\"_parent\"><img src=\"https://colab.research.google.com/assets/colab-badge.svg\" alt=\"Open In Colab\"/></a>"
      ]
    },
    {
      "cell_type": "code",
      "source": [
        "import os\n",
        "import requests\n",
        "import zipfile\n",
        "from sklearn.model_selection import train_test_split\n",
        "\n",
        "dataset_url = 'https://github.com/ishaqmarashy/DATALFS/raw/main/JMuBEN.zip'\n",
        "dataset_dir = './JMuBEN'\n",
        "\n",
        "if not os.path.exists(dataset_dir):\n",
        "    os.makedirs(dataset_dir)\n",
        "zip_file_path = os.path.join(dataset_dir, 'JMuBEN.zip')\n",
        "\n",
        "if not os.path.exists(zip_file_path):\n",
        "    response = requests.get(dataset_url)\n",
        "    with open(zip_file_path, 'wb') as zip_file:\n",
        "        zip_file.write(response.content)\n",
        "\n",
        "with zipfile.ZipFile(zip_file_path, 'r') as zip_ref:\n",
        "    zip_ref.extractall(dataset_dir)\n",
        "\n",
        "train_dir = os.path.join(dataset_dir, 'train')\n",
        "test_dir = os.path.join(dataset_dir, 'test')"
      ],
      "metadata": {
        "id": "YJ8nIh8Pxxfi"
      },
      "execution_count": null,
      "outputs": []
    }
  ]
}