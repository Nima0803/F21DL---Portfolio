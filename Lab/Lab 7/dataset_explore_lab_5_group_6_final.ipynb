{
 "cells": [
  {
   "cell_type": "markdown",
   "metadata": {},
   "source": [
    "# Lab 5\n"
   ]
  },
  {
   "cell_type": "markdown",
   "metadata": {},
   "source": [
    "## JMuBEN2 dataset\n"
   ]
  },
  {
   "cell_type": "markdown",
   "metadata": {},
   "source": [
    "(https://data.mendeley.com/datasets/tgv3zb82nd/1)\n",
    "\n",
    "Image dataset taken from an Arabica coffee plantation. The image dataset contains collection of healthy and miner coffee leaves.\n",
    "\n",
    "We used the same dataset that we used in Lab 4."
   ]
  },
  {
   "cell_type": "markdown",
   "metadata": {},
   "source": [
    "# Loading and Spliting the dataset "
   ]
  },
  {
   "cell_type": "code",
   "execution_count": 2,
   "metadata": {
    "id": "wNVZNNGPpUsJ"
   },
   "outputs": [],
   "source": [
    "import os\n",
    "import requests\n",
    "import zipfile\n",
    "import numpy as np\n",
    "\n",
    "dataset_url = 'https://github.com/ishaqmarashy/DATALFS/raw/main/JMuBEN.zip'\n",
    "dataset_dir = './JMuBEN'\n",
    "\n",
    "# create directory for dataset if it does not exist\n",
    "if not os.path.exists(dataset_dir):\n",
    "    os.makedirs(dataset_dir)\n",
    "    \n",
    "# append JMuBEN.zip to the end of the path (this is where we download the file to)\n",
    "zip_file_path = os.path.join(dataset_dir, 'JMuBEN.zip')\n",
    "\n",
    "\n",
    "# check if file is downloaded already\n",
    "if not os.path.exists(zip_file_path):\n",
    "    \n",
    "    # file is not downloaded so fetch the file\n",
    "    response = requests.get(dataset_url)\n",
    "    \n",
    "    # write file to storage which is recieved from the response\n",
    "    with open(zip_file_path, 'wb') as zip_file:\n",
    "        zip_file.write(response.content)\n",
    "        \n",
    "    # unzip to zip file path\n",
    "    with zipfile.ZipFile(zip_file_path, 'r') as zip_ref:\n",
    "        zip_ref.extractall(dataset_dir)\n",
    "\n",
    "# within the concat train and test to become ./JMuBEN/train and JMuBEN ./JMuBEN/test\n",
    "train_dir = os.path.join(dataset_dir, 'train')\n",
    "test_dir = os.path.join(dataset_dir, 'test')"
   ]
  },
  {
   "cell_type": "code",
   "execution_count": 3,
   "metadata": {
    "id": "wNVZNNGPpUsJ"
   },
   "outputs": [],
   "source": [
    "def load_images_and_labels(directory):\n",
    "    images = []\n",
    "    labels = []\n",
    "    \n",
    "    # get subdirectories Healthy and Miner\n",
    "    \n",
    "    for class_name in os.listdir(directory):\n",
    "        \n",
    "        # concat subdirectory to get full path\n",
    "        class_dir = os.path.join(directory, class_name)\n",
    "        # assign labels using class subdirectory\n",
    "        # label is determined by filepath\n",
    "        label = 0 if class_name == 'Miner' else 1\n",
    "        \n",
    "        # append labels and image paths to labels and images respectively\n",
    "        for filename in os.listdir(class_dir):\n",
    "            images.append(os.path.join(class_dir, filename))\n",
    "            labels.append(label)\n",
    "            \n",
    "    return images, labels\n",
    "\n",
    "# load file directories and their labels\n",
    "train_images_dir, train_labels = load_images_and_labels(train_dir)\n",
    "test_images_dir, test_labels = load_images_and_labels(test_dir)"
   ]
  },
  {
   "cell_type": "code",
   "execution_count": 4,
   "metadata": {
    "colab": {
     "base_uri": "https://localhost:8080/"
    },
    "id": "-wWJu4XIpUsK",
    "outputId": "b5dc0d20-b7a1-4b1b-a1b2-dfe19da8c1ef"
   },
   "outputs": [
    {
     "name": "stdout",
     "output_type": "stream",
     "text": [
      "Train images:24000  Labels:24000\n",
      "Test images:6000  Labels:6000\n"
     ]
    }
   ],
   "source": [
    "# print the number of images and labels\n",
    "\n",
    "print(f\"Train images:{len(train_images_dir)}  Labels:{len(train_labels)}\")\n",
    "print(f\"Test images:{len(test_images_dir)}  Labels:{len(test_labels)}\")\n"
   ]
  },
  {
   "cell_type": "markdown",
   "metadata": {},
   "source": [
    "# Pre-processing and Normalization"
   ]
  },
  {
   "cell_type": "markdown",
   "metadata": {},
   "source": [
    "Images in the dataset were converted to grayscale and resized to 128x128"
   ]
  },
  {
   "cell_type": "markdown",
   "metadata": {},
   "source": [
    "Tried loading as described https://www.analyticsvidhya.com/blog/2021/07/step-by-step-guide-for-image-classification-on-custom-datasets/\n",
    "\n",
    "https://towardsdatascience.com/pipelines-custom-transformers-in-scikit-learn-the-step-by-step-guide-with-python-code-4a7d9b068156"
   ]
  },
  {
   "cell_type": "code",
   "execution_count": 5,
   "metadata": {
    "id": "6lxOlSPGrUn8"
   },
   "outputs": [],
   "source": [
    "import cv2\n",
    "from sklearn.pipeline import Pipeline\n",
    "from sklearn.preprocessing import FunctionTransformer\n",
    "\n",
    "def load_grayscale_images(image_paths):\n",
    "    loaded_images = []\n",
    "    for image_path in image_paths:\n",
    "        img = cv2.imread(image_path, cv2.IMREAD_GRAYSCALE)  #  grayscale\n",
    "        loaded_images.append(img)\n",
    "    return loaded_images\n",
    "\n",
    "def resize_images(images_to_resize):\n",
    "    resized_images = []\n",
    "    for img in images_to_resize:\n",
    "        resized_img = cv2.resize(img, (48, 48))  # resize\n",
    "        resized_images.append(resized_img)\n",
    "    return resized_images\n",
    "\n",
    "def normalize_image(images_to_normalize):\n",
    "    normalized_images = []\n",
    "    for img in images_to_normalize:\n",
    "        normalized_img = img / 255.0  # normalize\n",
    "        normalized_images.append(normalized_img)\n",
    "    return normalized_images\n",
    "\n",
    "image_pipeline = Pipeline(steps=[\n",
    "    ('load_grayscale_images', FunctionTransformer(load_grayscale_images)),\n",
    "    ('resize_images', FunctionTransformer(resize_images)),\n",
    "    ('normalize_image', FunctionTransformer(normalize_image))\n",
    "])\n",
    "\n",
    "\n",
    "train_images=image_pipeline.transform(train_images_dir)\n",
    "test_images=image_pipeline.transform(test_images_dir)"
   ]
  },
  {
   "cell_type": "code",
   "execution_count": 6,
   "metadata": {},
   "outputs": [
    {
     "name": "stdout",
     "output_type": "stream",
     "text": [
      "24000\n",
      "6000\n"
     ]
    }
   ],
   "source": [
    "print(len(train_images))\n",
    "print(len(test_images))"
   ]
  },
  {
   "cell_type": "markdown",
   "metadata": {},
   "source": [
    "# Model Training"
   ]
  },
  {
   "cell_type": "code",
   "execution_count": 7,
   "metadata": {},
   "outputs": [],
   "source": [
    "train_images = np.array(train_images)\n",
    "train_labels = np.array(train_labels)\n",
    "test_images = np.array(test_images)\n",
    "\n",
    "train_images = train_images.reshape(train_images.shape[0], -1)\n",
    "train_labels = train_labels.reshape(train_images.shape[0], -1)\n",
    "test_images = test_images.reshape(test_images.shape[0], -1)"
   ]
  },
  {
   "cell_type": "markdown",
   "metadata": {},
   "source": [
    "### 1) Multinomial Naive Bayes"
   ]
  },
  {
   "cell_type": "code",
   "execution_count": 8,
   "metadata": {},
   "outputs": [],
   "source": [
    "from sklearn.naive_bayes import MultinomialNB\n",
    "clf1 = MultinomialNB(alpha=1.0e-10, force_alpha=True , class_prior=[0.4, 0.6])\n",
    "train_labels = train_labels.ravel()\n",
    "clf1.fit(train_images, train_labels)\n",
    "predictions1 = clf1.predict(test_images)"
   ]
  },
  {
   "cell_type": "markdown",
   "metadata": {},
   "source": [
    "##### Model Evaluation\n"
   ]
  },
  {
   "cell_type": "code",
   "execution_count": 9,
   "metadata": {},
   "outputs": [
    {
     "name": "stdout",
     "output_type": "stream",
     "text": [
      "Accuracy =  0.6556666666666666\n"
     ]
    }
   ],
   "source": [
    "from sklearn.metrics import accuracy_score\n",
    "\n",
    "# accuracy\n",
    "accuracy = accuracy_score(test_labels, predictions1)\n",
    "print('Accuracy = ', accuracy)"
   ]
  },
  {
   "cell_type": "code",
   "execution_count": 10,
   "metadata": {},
   "outputs": [
    {
     "data": {
      "text/plain": [
       "array([[1068, 1932],\n",
       "       [ 134, 2866]], dtype=int64)"
      ]
     },
     "execution_count": 10,
     "metadata": {},
     "output_type": "execute_result"
    }
   ],
   "source": [
    "from sklearn.metrics import confusion_matrix\n",
    "\n",
    "# confusion matrix\n",
    "confusion_matrix = confusion_matrix(test_labels, predictions1)\n",
    "confusion_matrix"
   ]
  },
  {
   "cell_type": "code",
   "execution_count": 11,
   "metadata": {},
   "outputs": [
    {
     "name": "stdout",
     "output_type": "stream",
     "text": [
      "TP =  1068\n",
      "FP =  134\n",
      "TN =  2866\n",
      "FN =  1932\n"
     ]
    }
   ],
   "source": [
    "tp = confusion_matrix[0,0]\n",
    "print(\"TP = \", tp)\n",
    "fp = confusion_matrix[1,0]\n",
    "print(\"FP = \", fp)\n",
    "tn = confusion_matrix[1,1]\n",
    "print(\"TN = \", tn)\n",
    "fn = confusion_matrix[0,1]\n",
    "print(\"FN = \", fn)"
   ]
  },
  {
   "cell_type": "code",
   "execution_count": 12,
   "metadata": {},
   "outputs": [
    {
     "name": "stdout",
     "output_type": "stream",
     "text": [
      "Sensitivity =  0.356\n",
      "Specificity =  0.9553333333333334\n"
     ]
    }
   ],
   "source": [
    "sensitivity = tp / (tp + fn)\n",
    "print('Sensitivity = ', sensitivity)\n",
    "\n",
    "specificity = tn/ (fp + tn)\n",
    "print('Specificity = ', specificity)"
   ]
  },
  {
   "cell_type": "code",
   "execution_count": 13,
   "metadata": {},
   "outputs": [
    {
     "name": "stdout",
     "output_type": "stream",
     "text": [
      "Precision =  0.5973322217590663\n",
      "Recall =  0.9553333333333334\n"
     ]
    }
   ],
   "source": [
    "from sklearn.metrics import precision_score, recall_score\n",
    "\n",
    "precision = precision_score(test_labels, predictions1)\n",
    "print('Precision = ', precision)\n",
    "\n",
    "recall = recall_score(test_labels, predictions1)\n",
    "print('Recall = ', recall)"
   ]
  },
  {
   "cell_type": "code",
   "execution_count": 14,
   "metadata": {},
   "outputs": [
    {
     "name": "stdout",
     "output_type": "stream",
     "text": [
      "Area Under Curve =  0.5523554444444445\n"
     ]
    },
    {
     "data": {
      "image/png": "[encoded data removed]",
      "text/plain": [
       "<Figure size 800x600 with 1 Axes>"
      ]
     },
     "metadata": {},
     "output_type": "display_data"
    }
   ],
   "source": [
    "import matplotlib.pyplot as plt\n",
    "from sklearn.metrics import roc_curve, auc\n",
    "\n",
    "# Calculate predicted probabilities for the positive class\n",
    "probabilities = clf1.predict_proba(test_images)[:, 1]\n",
    "\n",
    "# Calculate the ROC curve\n",
    "fpr, tpr, thresholds = roc_curve(test_labels, probabilities)\n",
    "\n",
    "# Calculate the AUC (Area Under the Curve)\n",
    "roc_auc = auc(fpr, tpr)\n",
    "print(\"Area Under Curve = \", roc_auc)\n",
    "\n",
    "# Plot the ROC curve\n",
    "plt.figure(figsize=(8, 6))\n",
    "plt.plot(fpr, tpr, color='darkorange', lw=2, label='ROC curve (area = {:.2f})'.format(roc_auc))\n",
    "plt.plot([0, 1], [0, 1], color='navy', lw=2, linestyle='--')\n",
    "plt.xlim([0.0, 1.0])\n",
    "plt.ylim([0.0, 1.05])\n",
    "plt.xlabel('False Positive Rate')\n",
    "plt.ylabel('True Positive Rate')\n",
    "plt.title('Receiver Operating Characteristic (ROC)')\n",
    "plt.legend(loc='lower right')\n",
    "plt.show()"
   ]
  },
  {
   "cell_type": "markdown",
   "metadata": {},
   "source": [
    "### 2) Gaussian Naive Bayes"
   ]
  },
  {
   "cell_type": "code",
   "execution_count": 15,
   "metadata": {},
   "outputs": [],
   "source": [
    "from sklearn.naive_bayes import GaussianNB\n",
    "clf2 = GaussianNB()\n",
    "clf2.fit(train_images, train_labels)\n",
    "predictions2 = clf2.predict(test_images)"
   ]
  },
  {
   "cell_type": "markdown",
   "metadata": {},
   "source": [
    "##### Model Evaluation\n"
   ]
  },
  {
   "cell_type": "code",
   "execution_count": 16,
   "metadata": {},
   "outputs": [
    {
     "name": "stdout",
     "output_type": "stream",
     "text": [
      "Accuracy =  0.653\n"
     ]
    }
   ],
   "source": [
    "# accuracy\n",
    "accuracy = accuracy_score(test_labels, predictions2)\n",
    "print('Accuracy = ', accuracy)"
   ]
  },
  {
   "cell_type": "code",
   "execution_count": 17,
   "metadata": {},
   "outputs": [
    {
     "data": {
      "text/plain": [
       "array([[2316,  684],\n",
       "       [1398, 1602]], dtype=int64)"
      ]
     },
     "execution_count": 17,
     "metadata": {},
     "output_type": "execute_result"
    }
   ],
   "source": [
    "from sklearn.metrics import confusion_matrix\n",
    "\n",
    "# confusion matrix\n",
    "confusion_matrix = confusion_matrix(test_labels, predictions2)\n",
    "confusion_matrix"
   ]
  },
  {
   "cell_type": "code",
   "execution_count": 18,
   "metadata": {},
   "outputs": [
    {
     "name": "stdout",
     "output_type": "stream",
     "text": [
      "TP =  2316\n",
      "FP =  1398\n",
      "TN =  1602\n",
      "FN =  684\n"
     ]
    }
   ],
   "source": [
    "tp = confusion_matrix[0,0]\n",
    "print(\"TP = \", tp)\n",
    "fp = confusion_matrix[1,0]\n",
    "print(\"FP = \", fp)\n",
    "tn = confusion_matrix[1,1]\n",
    "print(\"TN = \", tn)\n",
    "fn = confusion_matrix[0,1]\n",
    "print(\"FN = \", fn)"
   ]
  },
  {
   "cell_type": "code",
   "execution_count": 19,
   "metadata": {},
   "outputs": [
    {
     "name": "stdout",
     "output_type": "stream",
     "text": [
      "Sensitivity =  0.772\n",
      "Specificity =  0.534\n"
     ]
    }
   ],
   "source": [
    "sensitivity = tp / (tp + fn)\n",
    "print('Sensitivity = ', sensitivity)\n",
    "\n",
    "specificity = tn/ (fp + tn)\n",
    "print('Specificity = ', specificity)"
   ]
  },
  {
   "cell_type": "code",
   "execution_count": 20,
   "metadata": {},
   "outputs": [
    {
     "name": "stdout",
     "output_type": "stream",
     "text": [
      "Precision =  0.7007874015748031\n",
      "Recall =  0.534\n"
     ]
    }
   ],
   "source": [
    "precision = precision_score(test_labels, predictions2)\n",
    "print('Precision = ', precision)\n",
    "\n",
    "recall = recall_score(test_labels, predictions2)\n",
    "print('Recall = ', recall)"
   ]
  },
  {
   "cell_type": "code",
   "execution_count": 21,
   "metadata": {},
   "outputs": [
    {
     "name": "stdout",
     "output_type": "stream",
     "text": [
      "Area Under Curve =  0.782322\n"
     ]
    },
    {
     "data": {
      "image/png": "[encoded data removed]",
      "text/plain": [
       "<Figure size 800x600 with 1 Axes>"
      ]
     },
     "metadata": {},
     "output_type": "display_data"
    }
   ],
   "source": [
    "# Calculate predicted probabilities for the positive class\n",
    "probabilities = clf2.predict_proba(test_images)[:, 1]\n",
    "\n",
    "# Calculate the ROC curve\n",
    "fpr, tpr, thresholds = roc_curve(test_labels, probabilities)\n",
    "\n",
    "# Calculate the AUC (Area Under the Curve)\n",
    "roc_auc = auc(fpr, tpr)\n",
    "print(\"Area Under Curve = \", roc_auc)\n",
    "\n",
    "# Plot the ROC curve\n",
    "plt.figure(figsize=(8, 6))\n",
    "plt.plot(fpr, tpr, color='darkorange', lw=2, label='ROC curve (area = {:.2f})'.format(roc_auc))\n",
    "plt.plot([0, 1], [0, 1], color='navy', lw=2, linestyle='--')\n",
    "plt.xlim([0.0, 1.0])\n",
    "plt.ylim([0.0, 1.05])\n",
    "plt.xlabel('False Positive Rate')\n",
    "plt.ylabel('True Positive Rate')\n",
    "plt.title('Receiver Operating Characteristic (ROC)')\n",
    "plt.legend(loc='lower right')\n",
    "plt.show()"
   ]
  },
  {
   "cell_type": "markdown",
   "metadata": {},
   "source": [
    "### 3) Complement Naive Bayes"
   ]
  },
  {
   "cell_type": "code",
   "execution_count": 22,
   "metadata": {},
   "outputs": [],
   "source": [
    "from sklearn.naive_bayes import ComplementNB\n",
    "clf3 = ComplementNB(force_alpha=True)\n",
    "clf3.fit(train_images, train_labels)\n",
    "predictions3 = clf3.predict(test_images)"
   ]
  },
  {
   "cell_type": "markdown",
   "metadata": {},
   "source": [
    "##### Model Evaluation\n"
   ]
  },
  {
   "cell_type": "code",
   "execution_count": 23,
   "metadata": {},
   "outputs": [
    {
     "name": "stdout",
     "output_type": "stream",
     "text": [
      "Accuracy =  0.601\n"
     ]
    }
   ],
   "source": [
    "# accuracy\n",
    "accuracy = accuracy_score(test_labels, predictions3)\n",
    "print('Accuracy = ', accuracy)"
   ]
  },
  {
   "cell_type": "code",
   "execution_count": 24,
   "metadata": {},
   "outputs": [
    {
     "data": {
      "text/plain": [
       "array([[1331, 1669],\n",
       "       [ 725, 2275]], dtype=int64)"
      ]
     },
     "execution_count": 24,
     "metadata": {},
     "output_type": "execute_result"
    }
   ],
   "source": [
    "from sklearn.metrics import confusion_matrix\n",
    "\n",
    "# confusion matrix\n",
    "confusion_matrix = confusion_matrix(test_labels, predictions3)\n",
    "confusion_matrix"
   ]
  },
  {
   "cell_type": "code",
   "execution_count": 25,
   "metadata": {},
   "outputs": [
    {
     "name": "stdout",
     "output_type": "stream",
     "text": [
      "TP =  1331\n",
      "FP =  725\n",
      "TN =  2275\n",
      "FN =  1669\n"
     ]
    }
   ],
   "source": [
    "tp = confusion_matrix[0,0]\n",
    "print(\"TP = \", tp)\n",
    "fp = confusion_matrix[1,0]\n",
    "print(\"FP = \", fp)\n",
    "tn = confusion_matrix[1,1]\n",
    "print(\"TN = \", tn)\n",
    "fn = confusion_matrix[0,1]\n",
    "print(\"FN = \", fn)"
   ]
  },
  {
   "cell_type": "code",
   "execution_count": 26,
   "metadata": {},
   "outputs": [
    {
     "name": "stdout",
     "output_type": "stream",
     "text": [
      "Sensitivity =  0.44366666666666665\n",
      "Specificity =  0.7583333333333333\n"
     ]
    }
   ],
   "source": [
    "sensitivity = tp / (tp + fn)\n",
    "print('Sensitivity = ', sensitivity)\n",
    "\n",
    "specificity = tn/ (fp + tn)\n",
    "print('Specificity = ', specificity)"
   ]
  },
  {
   "cell_type": "code",
   "execution_count": 27,
   "metadata": {},
   "outputs": [
    {
     "name": "stdout",
     "output_type": "stream",
     "text": [
      "Precision =  0.5768255578093306\n",
      "Recall =  0.7583333333333333\n"
     ]
    }
   ],
   "source": [
    "precision = precision_score(test_labels, predictions3)\n",
    "print('Precision = ', precision)\n",
    "\n",
    "recall = recall_score(test_labels, predictions3)\n",
    "print('Recall = ', recall)"
   ]
  },
  {
   "cell_type": "code",
   "execution_count": 28,
   "metadata": {},
   "outputs": [
    {
     "name": "stdout",
     "output_type": "stream",
     "text": [
      "Area Under Curve =  0.552383888888889\n"
     ]
    },
    {
     "data": {
      "image/png": "[encoded data removed]",
      "text/plain": [
       "<Figure size 800x600 with 1 Axes>"
      ]
     },
     "metadata": {},
     "output_type": "display_data"
    }
   ],
   "source": [
    "# Calculate predicted probabilities for the positive class\n",
    "probabilities = clf3.predict_proba(test_images)[:, 1]\n",
    "\n",
    "# Calculate the ROC curve\n",
    "fpr, tpr, thresholds = roc_curve(test_labels, probabilities)\n",
    "\n",
    "# Calculate the AUC (Area Under the Curve)\n",
    "roc_auc = auc(fpr, tpr)\n",
    "print(\"Area Under Curve = \", roc_auc)\n",
    "\n",
    "# Plot the ROC curve\n",
    "plt.figure(figsize=(8, 6))\n",
    "plt.plot(fpr, tpr, color='darkorange', lw=2, label='ROC curve (area = {:.2f})'.format(roc_auc))\n",
    "plt.plot([0, 1], [0, 1], color='navy', lw=2, linestyle='--')\n",
    "plt.xlim([0.0, 1.0])\n",
    "plt.ylim([0.0, 1.05])\n",
    "plt.xlabel('False Positive Rate')\n",
    "plt.ylabel('True Positive Rate')\n",
    "plt.title('Receiver Operating Characteristic (ROC)')\n",
    "plt.legend(loc='lower right')\n",
    "plt.show()"
   ]
  },
  {
   "cell_type": "markdown",
   "metadata": {},
   "source": [
    "### 4) Bernoulli Naive Bayes"
   ]
  },
  {
   "cell_type": "code",
   "execution_count": 29,
   "metadata": {},
   "outputs": [],
   "source": [
    "from sklearn.naive_bayes import BernoulliNB\n",
    "clf4 = BernoulliNB(force_alpha=True)\n",
    "clf4.fit(train_images, train_labels)\n",
    "predictions4 = clf4.predict(test_images)"
   ]
  },
  {
   "cell_type": "markdown",
   "metadata": {},
   "source": [
    "##### Model Evaluation\n"
   ]
  },
  {
   "cell_type": "code",
   "execution_count": 30,
   "metadata": {},
   "outputs": [
    {
     "name": "stdout",
     "output_type": "stream",
     "text": [
      "Accuracy =  0.5\n"
     ]
    }
   ],
   "source": [
    "# accuracy\n",
    "accuracy = accuracy_score(test_labels, predictions4)\n",
    "print('Accuracy = ', accuracy)"
   ]
  },
  {
   "cell_type": "code",
   "execution_count": 31,
   "metadata": {},
   "outputs": [
    {
     "data": {
      "text/plain": [
       "array([[3000,    0],\n",
       "       [3000,    0]], dtype=int64)"
      ]
     },
     "execution_count": 31,
     "metadata": {},
     "output_type": "execute_result"
    }
   ],
   "source": [
    "from sklearn.metrics import confusion_matrix\n",
    "\n",
    "# confusion matrix\n",
    "confusion_matrix = confusion_matrix(test_labels, predictions4)\n",
    "confusion_matrix"
   ]
  },
  {
   "cell_type": "code",
   "execution_count": 32,
   "metadata": {},
   "outputs": [
    {
     "name": "stdout",
     "output_type": "stream",
     "text": [
      "TP =  3000\n",
      "FP =  3000\n",
      "TN =  0\n",
      "FN =  0\n"
     ]
    }
   ],
   "source": [
    "tp = confusion_matrix[0,0]\n",
    "print(\"TP = \", tp)\n",
    "fp = confusion_matrix[1,0]\n",
    "print(\"FP = \", fp)\n",
    "tn = confusion_matrix[1,1]\n",
    "print(\"TN = \", tn)\n",
    "fn = confusion_matrix[0,1]\n",
    "print(\"FN = \", fn)"
   ]
  },
  {
   "cell_type": "code",
   "execution_count": 33,
   "metadata": {},
   "outputs": [
    {
     "name": "stdout",
     "output_type": "stream",
     "text": [
      "Sensitivity =  1.0\n",
      "Specificity =  0.0\n"
     ]
    }
   ],
   "source": [
    "sensitivity = tp / (tp + fn)\n",
    "print('Sensitivity = ', sensitivity)\n",
    "\n",
    "specificity = tn/ (fp + tn)\n",
    "print('Specificity = ', specificity)"
   ]
  },
  {
   "cell_type": "code",
   "execution_count": 34,
   "metadata": {},
   "outputs": [
    {
     "name": "stdout",
     "output_type": "stream",
     "text": [
      "Precision =  1.0\n",
      "Recall =  0.0\n"
     ]
    }
   ],
   "source": [
    "precision = precision_score(test_labels, predictions4, zero_division=1)\n",
    "print('Precision = ', precision)\n",
    "\n",
    "recall = recall_score(test_labels, predictions4, zero_division=1)\n",
    "print('Recall = ', recall)"
   ]
  },
  {
   "cell_type": "code",
   "execution_count": 35,
   "metadata": {},
   "outputs": [
    {
     "name": "stdout",
     "output_type": "stream",
     "text": [
      "Area Under Curve =  0.5\n"
     ]
    },
    {
     "data": {
      "image/png": "[encoded data removed]",
      "text/plain": [
       "<Figure size 800x600 with 1 Axes>"
      ]
     },
     "metadata": {},
     "output_type": "display_data"
    }
   ],
   "source": [
    "# Calculate predicted probabilities for the positive class\n",
    "probabilities = clf4.predict_proba(test_images)[:, 1]\n",
    "\n",
    "# Calculate the ROC curve\n",
    "fpr, tpr, thresholds = roc_curve(test_labels, probabilities)\n",
    "\n",
    "# Calculate the AUC (Area Under the Curve)\n",
    "roc_auc = auc(fpr, tpr)\n",
    "print(\"Area Under Curve = \", roc_auc)\n",
    "\n",
    "# Plot the ROC curve\n",
    "plt.figure(figsize=(8, 6))\n",
    "plt.plot(fpr, tpr, color='darkorange', lw=2, label='ROC curve (area = {:.2f})'.format(roc_auc))\n",
    "plt.plot([0, 1], [0, 1], color='navy', lw=2, linestyle='--')\n",
    "plt.xlim([0.0, 1.0])\n",
    "plt.ylim([0.0, 1.05])\n",
    "plt.xlabel('False Positive Rate')\n",
    "plt.ylabel('True Positive Rate')\n",
    "plt.title('Receiver Operating Characteristic (ROC)')\n",
    "plt.legend(loc='lower right')\n",
    "plt.show()"
   ]
  },
  {
   "cell_type": "markdown",
   "metadata": {},
   "source": [
    "### 5) Categorical Naive Bayes"
   ]
  },
  {
   "cell_type": "code",
   "execution_count": 36,
   "metadata": {},
   "outputs": [],
   "source": [
    "from sklearn.naive_bayes import CategoricalNB\n",
    "clf5 = CategoricalNB(force_alpha=True)\n",
    "clf5.fit(train_images, train_labels)\n",
    "predictions5 = clf5.predict(test_images)"
   ]
  },
  {
   "cell_type": "markdown",
   "metadata": {},
   "source": [
    "##### Model Evaluation\n"
   ]
  },
  {
   "cell_type": "code",
   "execution_count": 37,
   "metadata": {},
   "outputs": [
    {
     "name": "stdout",
     "output_type": "stream",
     "text": [
      "Accuracy =  0.6163333333333333\n"
     ]
    }
   ],
   "source": [
    "# accuracy\n",
    "accuracy = accuracy_score(test_labels, predictions5)\n",
    "print('Accuracy = ', accuracy)"
   ]
  },
  {
   "cell_type": "code",
   "execution_count": 38,
   "metadata": {},
   "outputs": [
    {
     "data": {
      "text/plain": [
       "array([[ 698, 2302],\n",
       "       [   0, 3000]], dtype=int64)"
      ]
     },
     "execution_count": 38,
     "metadata": {},
     "output_type": "execute_result"
    }
   ],
   "source": [
    "from sklearn.metrics import confusion_matrix\n",
    "\n",
    "# confusion matrix\n",
    "confusion_matrix = confusion_matrix(test_labels, predictions5)\n",
    "confusion_matrix"
   ]
  },
  {
   "cell_type": "code",
   "execution_count": 39,
   "metadata": {},
   "outputs": [
    {
     "name": "stdout",
     "output_type": "stream",
     "text": [
      "TP =  698\n",
      "FP =  0\n",
      "TN =  3000\n",
      "FN =  2302\n"
     ]
    }
   ],
   "source": [
    "tp = confusion_matrix[0,0]\n",
    "print(\"TP = \", tp)\n",
    "fp = confusion_matrix[1,0]\n",
    "print(\"FP = \", fp)\n",
    "tn = confusion_matrix[1,1]\n",
    "print(\"TN = \", tn)\n",
    "fn = confusion_matrix[0,1]\n",
    "print(\"FN = \", fn)"
   ]
  },
  {
   "cell_type": "code",
   "execution_count": 40,
   "metadata": {},
   "outputs": [
    {
     "name": "stdout",
     "output_type": "stream",
     "text": [
      "Sensitivity =  0.23266666666666666\n",
      "Specificity =  1.0\n"
     ]
    }
   ],
   "source": [
    "sensitivity = tp / (tp + fn)\n",
    "print('Sensitivity = ', sensitivity)\n",
    "\n",
    "specificity = tn/ (fp + tn)\n",
    "print('Specificity = ', specificity)"
   ]
  },
  {
   "cell_type": "code",
   "execution_count": 41,
   "metadata": {},
   "outputs": [
    {
     "name": "stdout",
     "output_type": "stream",
     "text": [
      "Precision =  0.5658242172764995\n",
      "Recall =  1.0\n"
     ]
    }
   ],
   "source": [
    "precision = precision_score(test_labels, predictions5)\n",
    "print('Precision = ', precision)\n",
    "\n",
    "recall = recall_score(test_labels, predictions5)\n",
    "print('Recall = ', recall)"
   ]
  },
  {
   "cell_type": "code",
   "execution_count": 42,
   "metadata": {},
   "outputs": [
    {
     "name": "stdout",
     "output_type": "stream",
     "text": [
      "Area Under Curve =  0.6285\n"
     ]
    },
    {
     "data": {
      "image/png": "[encoded data removed]",
      "text/plain": [
       "<Figure size 800x600 with 1 Axes>"
      ]
     },
     "metadata": {},
     "output_type": "display_data"
    }
   ],
   "source": [
    "# Calculate predicted probabilities for the positive class\n",
    "probabilities = clf5.predict_proba(test_images)[:, 1]\n",
    "\n",
    "# Calculate the ROC curve\n",
    "fpr, tpr, thresholds = roc_curve(test_labels, probabilities)\n",
    "\n",
    "# Calculate the AUC (Area Under the Curve)\n",
    "roc_auc = auc(fpr, tpr)\n",
    "print(\"Area Under Curve = \", roc_auc)\n",
    "\n",
    "# Plot the ROC curve\n",
    "plt.figure(figsize=(8, 6))\n",
    "plt.plot(fpr, tpr, color='darkorange', lw=2, label='ROC curve (area = {:.2f})'.format(roc_auc))\n",
    "plt.plot([0, 1], [0, 1], color='navy', lw=2, linestyle='--')\n",
    "plt.xlim([0.0, 1.0])\n",
    "plt.ylim([0.0, 1.05])\n",
    "plt.xlabel('False Positive Rate')\n",
    "plt.ylabel('True Positive Rate')\n",
    "plt.title('Receiver Operating Characteristic (ROC)')\n",
    "plt.legend(loc='lower right')\n",
    "plt.show()"
   ]
  },
  {
   "cell_type": "code",
   "execution_count": 43,
   "metadata": {},
   "outputs": [],
   "source": [
    "X=train_images"
   ]
  },
  {
   "cell_type": "markdown",
   "metadata": {},
   "source": [
    "# Clustering\n"
   ]
  },
  {
   "cell_type": "code",
   "execution_count": 44,
   "metadata": {},
   "outputs": [],
   "source": [
    "X=test_images\n",
    "y=test_labels"
   ]
  },
  {
   "cell_type": "code",
   "execution_count": 45,
   "metadata": {},
   "outputs": [],
   "source": [
    "import pandas as pd\n",
    "import matplotlib.pyplot as plt\n",
    "from sklearn.cluster import KMeans, MiniBatchKMeans, AgglomerativeClustering\n",
    "from sklearn.mixture import GaussianMixture\n",
    "from sklearn.metrics import silhouette_score, confusion_matrix, accuracy_score, precision_score, recall_score, f1_score, roc_auc_score\n",
    "\n",
    "def calculate_metrics(y, cluster_labels):\n",
    "    cm = confusion_matrix(y, cluster_labels)\n",
    "    TP = cm[1, 1]\n",
    "    FP = cm[0, 1]\n",
    "    TN = cm[0, 0]\n",
    "    FN = cm[1, 0]\n",
    "    Sensitivity = TP / (TP + FN)\n",
    "    Specificity = TN / (TN + FP)\n",
    "    fpr= TP / (TP + FN)\n",
    "    tpr= Sensitivity\n",
    "    silhouette_scores = silhouette_score(X, cluster_labels)\n",
    "    F1_score = f1_score(y, cluster_labels)\n",
    "    roc_auc = roc_auc_score(y, cluster_labels)\n",
    "    Precision = precision_score(y, cluster_labels)\n",
    "    Recall = recall_score(y, cluster_labels)\n",
    "    accuracy = accuracy_score(y, cluster_labels)\n",
    "\n",
    "    return fpr, tpr, TP, FP, TN, FN, Sensitivity, Specificity, Precision, Recall, roc_auc, accuracy, F1_score, silhouette_scores\n",
    "\n",
    "k_clusters=2\n",
    "algorithms = [\n",
    "    ('GM', GaussianMixture(n_components=k_clusters)),\n",
    "    ('K-Means', KMeans(n_clusters=k_clusters, n_init=\"auto\")),\n",
    "    ('MiniBatchKMeans', MiniBatchKMeans(n_clusters=k_clusters, batch_size=1536 , init='k-means++', n_init=50)), \n",
    "    ('AgglomerativeClustering', AgglomerativeClustering(n_clusters=k_clusters))\n",
    "]\n",
    "\n",
    "def evaluate_unsupervised(algorithms,X):\n",
    "    results = []\n",
    "    for name, algorithm in algorithms:\n",
    "        cluster_labels = algorithm.fit_predict(X)\n",
    "        fpr, tpr, TP, FP, TN, FN, Sensitivity, Specificity, Precision, Recall, roc_auc, accuracy, F1_score, silhouette_score_ = calculate_metrics(y, cluster_labels)\n",
    "        print(name,' Done')\n",
    "        results.append({\n",
    "            'Algorithm': name,\n",
    "            'Silhouette Score': silhouette_score_,\n",
    "            'TPR': tpr,\n",
    "            'FPR': fpr,\n",
    "            'TP': TP,\n",
    "            'FP': FP,\n",
    "            'TN': TN,\n",
    "            'FN': FN,\n",
    "            'Sensitivity': Sensitivity,\n",
    "            'Specificity': Specificity,\n",
    "            'Precision': Precision,\n",
    "            'Recall': Recall,\n",
    "            'ROC_AUC': roc_auc,\n",
    "            'Accuracy': accuracy,\n",
    "            'F1-Score': F1_score,\n",
    "            f'Data {X.shape[1]} Features' : X,\n",
    "            'algorithm':algorithm\n",
    "        })\n",
    "    return pd.DataFrame(results)\n"
   ]
  },
  {
   "cell_type": "code",
   "execution_count": 46,
   "metadata": {},
   "outputs": [],
   "source": [
    "from sklearn.decomposition import PCA\n",
    "\n",
    "pca = PCA(n_components=2)\n",
    "X_pca = pca.fit_transform(X)"
   ]
  },
  {
   "cell_type": "code",
   "execution_count": 47,
   "metadata": {},
   "outputs": [],
   "source": [
    "from sklearn.manifold import TSNE\n",
    "\n",
    "tsne = TSNE(n_components=2)\n",
    "X_tsne = tsne.fit_transform(X)"
   ]
  },
  {
   "cell_type": "code",
   "execution_count": 48,
   "metadata": {},
   "outputs": [
    {
     "name": "stdout",
     "output_type": "stream",
     "text": [
      "GM  Done\n",
      "K-Means  Done\n",
      "MiniBatchKMeans  Done\n",
      "AgglomerativeClustering  Done\n"
     ]
    },
    {
     "data": {
      "text/html": [
       "<div>\n",
       "<style scoped>\n",
       "    .dataframe tbody tr th:only-of-type {\n",
       "        vertical-align: middle;\n",
       "    }\n",
       "\n",
       "    .dataframe tbody tr th {\n",
       "        vertical-align: top;\n",
       "    }\n",
       "\n",
       "    .dataframe thead th {\n",
       "        text-align: right;\n",
       "    }\n",
       "</style>\n",
       "<table border=\"1\" class=\"dataframe\">\n",
       "  <thead>\n",
       "    <tr style=\"text-align: right;\">\n",
       "      <th></th>\n",
       "      <th>Algorithm</th>\n",
       "      <th>Silhouette Score</th>\n",
       "      <th>TPR</th>\n",
       "      <th>FPR</th>\n",
       "      <th>TP</th>\n",
       "      <th>FP</th>\n",
       "      <th>TN</th>\n",
       "      <th>FN</th>\n",
       "      <th>Sensitivity</th>\n",
       "      <th>Specificity</th>\n",
       "      <th>Precision</th>\n",
       "      <th>Recall</th>\n",
       "      <th>ROC_AUC</th>\n",
       "      <th>Accuracy</th>\n",
       "      <th>F1-Score</th>\n",
       "      <th>Data 2304 Features</th>\n",
       "      <th>algorithm</th>\n",
       "    </tr>\n",
       "  </thead>\n",
       "  <tbody>\n",
       "    <tr>\n",
       "      <th>0</th>\n",
       "      <td>GM</td>\n",
       "      <td>0.392455</td>\n",
       "      <td>0.534</td>\n",
       "      <td>0.534</td>\n",
       "      <td>1602</td>\n",
       "      <td>831</td>\n",
       "      <td>2169</td>\n",
       "      <td>1398</td>\n",
       "      <td>0.534</td>\n",
       "      <td>0.723000</td>\n",
       "      <td>0.658446</td>\n",
       "      <td>0.534</td>\n",
       "      <td>0.628500</td>\n",
       "      <td>0.628500</td>\n",
       "      <td>0.589729</td>\n",
       "      <td>[[0.3764705882352941, 0.35294117647058826, 0.3...</td>\n",
       "      <td>GaussianMixture(n_components=2)</td>\n",
       "    </tr>\n",
       "    <tr>\n",
       "      <th>1</th>\n",
       "      <td>K-Means</td>\n",
       "      <td>0.392962</td>\n",
       "      <td>0.466</td>\n",
       "      <td>0.466</td>\n",
       "      <td>1398</td>\n",
       "      <td>2185</td>\n",
       "      <td>815</td>\n",
       "      <td>1602</td>\n",
       "      <td>0.466</td>\n",
       "      <td>0.271667</td>\n",
       "      <td>0.390176</td>\n",
       "      <td>0.466</td>\n",
       "      <td>0.368833</td>\n",
       "      <td>0.368833</td>\n",
       "      <td>0.424730</td>\n",
       "      <td>[[0.3764705882352941, 0.35294117647058826, 0.3...</td>\n",
       "      <td>KMeans(n_clusters=2, n_init='auto')</td>\n",
       "    </tr>\n",
       "    <tr>\n",
       "      <th>2</th>\n",
       "      <td>MiniBatchKMeans</td>\n",
       "      <td>0.393025</td>\n",
       "      <td>0.466</td>\n",
       "      <td>0.466</td>\n",
       "      <td>1398</td>\n",
       "      <td>2201</td>\n",
       "      <td>799</td>\n",
       "      <td>1602</td>\n",
       "      <td>0.466</td>\n",
       "      <td>0.266333</td>\n",
       "      <td>0.388441</td>\n",
       "      <td>0.466</td>\n",
       "      <td>0.366167</td>\n",
       "      <td>0.366167</td>\n",
       "      <td>0.423701</td>\n",
       "      <td>[[0.3764705882352941, 0.35294117647058826, 0.3...</td>\n",
       "      <td>MiniBatchKMeans(batch_size=1536, n_clusters=2,...</td>\n",
       "    </tr>\n",
       "    <tr>\n",
       "      <th>3</th>\n",
       "      <td>AgglomerativeClustering</td>\n",
       "      <td>0.383456</td>\n",
       "      <td>0.534</td>\n",
       "      <td>0.534</td>\n",
       "      <td>1602</td>\n",
       "      <td>515</td>\n",
       "      <td>2485</td>\n",
       "      <td>1398</td>\n",
       "      <td>0.534</td>\n",
       "      <td>0.828333</td>\n",
       "      <td>0.756731</td>\n",
       "      <td>0.534</td>\n",
       "      <td>0.681167</td>\n",
       "      <td>0.681167</td>\n",
       "      <td>0.626148</td>\n",
       "      <td>[[0.3764705882352941, 0.35294117647058826, 0.3...</td>\n",
       "      <td>AgglomerativeClustering()</td>\n",
       "    </tr>\n",
       "  </tbody>\n",
       "</table>\n",
       "</div>"
      ],
      "text/plain": [
       "                 Algorithm  Silhouette Score    TPR    FPR    TP    FP    TN  \\\n",
       "0                       GM          0.392455  0.534  0.534  1602   831  2169   \n",
       "1                  K-Means          0.392962  0.466  0.466  1398  2185   815   \n",
       "2          MiniBatchKMeans          0.393025  0.466  0.466  1398  2201   799   \n",
       "3  AgglomerativeClustering          0.383456  0.534  0.534  1602   515  2485   \n",
       "\n",
       "     FN  Sensitivity  Specificity  Precision  Recall   ROC_AUC  Accuracy  \\\n",
       "0  1398        0.534     0.723000   0.658446   0.534  0.628500  0.628500   \n",
       "1  1602        0.466     0.271667   0.390176   0.466  0.368833  0.368833   \n",
       "2  1602        0.466     0.266333   0.388441   0.466  0.366167  0.366167   \n",
       "3  1398        0.534     0.828333   0.756731   0.534  0.681167  0.681167   \n",
       "\n",
       "   F1-Score                                 Data 2304 Features  \\\n",
       "0  0.589729  [[0.3764705882352941, 0.35294117647058826, 0.3...   \n",
       "1  0.424730  [[0.3764705882352941, 0.35294117647058826, 0.3...   \n",
       "2  0.423701  [[0.3764705882352941, 0.35294117647058826, 0.3...   \n",
       "3  0.626148  [[0.3764705882352941, 0.35294117647058826, 0.3...   \n",
       "\n",
       "                                           algorithm  \n",
       "0                    GaussianMixture(n_components=2)  \n",
       "1                KMeans(n_clusters=2, n_init='auto')  \n",
       "2  MiniBatchKMeans(batch_size=1536, n_clusters=2,...  \n",
       "3                          AgglomerativeClustering()  "
      ]
     },
     "execution_count": 48,
     "metadata": {},
     "output_type": "execute_result"
    }
   ],
   "source": [
    "results_df_full_feature = evaluate_unsupervised(algorithms,X)\n",
    "results_df_full_feature"
   ]
  },
  {
   "cell_type": "code",
   "execution_count": 49,
   "metadata": {},
   "outputs": [
    {
     "name": "stdout",
     "output_type": "stream",
     "text": [
      "GM  Done\n",
      "K-Means  Done\n",
      "MiniBatchKMeans  Done\n",
      "AgglomerativeClustering  Done\n"
     ]
    },
    {
     "data": {
      "text/html": [
       "<div>\n",
       "<style scoped>\n",
       "    .dataframe tbody tr th:only-of-type {\n",
       "        vertical-align: middle;\n",
       "    }\n",
       "\n",
       "    .dataframe tbody tr th {\n",
       "        vertical-align: top;\n",
       "    }\n",
       "\n",
       "    .dataframe thead th {\n",
       "        text-align: right;\n",
       "    }\n",
       "</style>\n",
       "<table border=\"1\" class=\"dataframe\">\n",
       "  <thead>\n",
       "    <tr style=\"text-align: right;\">\n",
       "      <th></th>\n",
       "      <th>Algorithm</th>\n",
       "      <th>Silhouette Score</th>\n",
       "      <th>TPR</th>\n",
       "      <th>FPR</th>\n",
       "      <th>TP</th>\n",
       "      <th>FP</th>\n",
       "      <th>TN</th>\n",
       "      <th>FN</th>\n",
       "      <th>Sensitivity</th>\n",
       "      <th>Specificity</th>\n",
       "      <th>Precision</th>\n",
       "      <th>Recall</th>\n",
       "      <th>ROC_AUC</th>\n",
       "      <th>Accuracy</th>\n",
       "      <th>F1-Score</th>\n",
       "      <th>Data 2 Features</th>\n",
       "      <th>algorithm</th>\n",
       "    </tr>\n",
       "  </thead>\n",
       "  <tbody>\n",
       "    <tr>\n",
       "      <th>0</th>\n",
       "      <td>GM</td>\n",
       "      <td>0.336431</td>\n",
       "      <td>0.534</td>\n",
       "      <td>0.534</td>\n",
       "      <td>1602</td>\n",
       "      <td>24</td>\n",
       "      <td>2976</td>\n",
       "      <td>1398</td>\n",
       "      <td>0.534</td>\n",
       "      <td>0.992000</td>\n",
       "      <td>0.985240</td>\n",
       "      <td>0.534</td>\n",
       "      <td>0.763000</td>\n",
       "      <td>0.763000</td>\n",
       "      <td>0.692607</td>\n",
       "      <td>[[3.0278309162486527, 0.7855100118660826], [3....</td>\n",
       "      <td>GaussianMixture(n_components=2)</td>\n",
       "    </tr>\n",
       "    <tr>\n",
       "      <th>1</th>\n",
       "      <td>K-Means</td>\n",
       "      <td>0.393031</td>\n",
       "      <td>0.534</td>\n",
       "      <td>0.534</td>\n",
       "      <td>1602</td>\n",
       "      <td>795</td>\n",
       "      <td>2205</td>\n",
       "      <td>1398</td>\n",
       "      <td>0.534</td>\n",
       "      <td>0.735000</td>\n",
       "      <td>0.668335</td>\n",
       "      <td>0.534</td>\n",
       "      <td>0.634500</td>\n",
       "      <td>0.634500</td>\n",
       "      <td>0.593663</td>\n",
       "      <td>[[3.0278309162486527, 0.7855100118660826], [3....</td>\n",
       "      <td>KMeans(n_clusters=2, n_init='auto')</td>\n",
       "    </tr>\n",
       "    <tr>\n",
       "      <th>2</th>\n",
       "      <td>MiniBatchKMeans</td>\n",
       "      <td>0.393031</td>\n",
       "      <td>0.466</td>\n",
       "      <td>0.466</td>\n",
       "      <td>1398</td>\n",
       "      <td>2205</td>\n",
       "      <td>795</td>\n",
       "      <td>1602</td>\n",
       "      <td>0.466</td>\n",
       "      <td>0.265000</td>\n",
       "      <td>0.388010</td>\n",
       "      <td>0.466</td>\n",
       "      <td>0.365500</td>\n",
       "      <td>0.365500</td>\n",
       "      <td>0.423444</td>\n",
       "      <td>[[3.0278309162486527, 0.7855100118660826], [3....</td>\n",
       "      <td>MiniBatchKMeans(batch_size=1536, n_clusters=2,...</td>\n",
       "    </tr>\n",
       "    <tr>\n",
       "      <th>3</th>\n",
       "      <td>AgglomerativeClustering</td>\n",
       "      <td>0.384317</td>\n",
       "      <td>0.534</td>\n",
       "      <td>0.534</td>\n",
       "      <td>1602</td>\n",
       "      <td>506</td>\n",
       "      <td>2494</td>\n",
       "      <td>1398</td>\n",
       "      <td>0.534</td>\n",
       "      <td>0.831333</td>\n",
       "      <td>0.759962</td>\n",
       "      <td>0.534</td>\n",
       "      <td>0.682667</td>\n",
       "      <td>0.682667</td>\n",
       "      <td>0.627251</td>\n",
       "      <td>[[3.0278309162486527, 0.7855100118660826], [3....</td>\n",
       "      <td>AgglomerativeClustering()</td>\n",
       "    </tr>\n",
       "  </tbody>\n",
       "</table>\n",
       "</div>"
      ],
      "text/plain": [
       "                 Algorithm  Silhouette Score    TPR    FPR    TP    FP    TN  \\\n",
       "0                       GM          0.336431  0.534  0.534  1602    24  2976   \n",
       "1                  K-Means          0.393031  0.534  0.534  1602   795  2205   \n",
       "2          MiniBatchKMeans          0.393031  0.466  0.466  1398  2205   795   \n",
       "3  AgglomerativeClustering          0.384317  0.534  0.534  1602   506  2494   \n",
       "\n",
       "     FN  Sensitivity  Specificity  Precision  Recall   ROC_AUC  Accuracy  \\\n",
       "0  1398        0.534     0.992000   0.985240   0.534  0.763000  0.763000   \n",
       "1  1398        0.534     0.735000   0.668335   0.534  0.634500  0.634500   \n",
       "2  1602        0.466     0.265000   0.388010   0.466  0.365500  0.365500   \n",
       "3  1398        0.534     0.831333   0.759962   0.534  0.682667  0.682667   \n",
       "\n",
       "   F1-Score                                    Data 2 Features  \\\n",
       "0  0.692607  [[3.0278309162486527, 0.7855100118660826], [3....   \n",
       "1  0.593663  [[3.0278309162486527, 0.7855100118660826], [3....   \n",
       "2  0.423444  [[3.0278309162486527, 0.7855100118660826], [3....   \n",
       "3  0.627251  [[3.0278309162486527, 0.7855100118660826], [3....   \n",
       "\n",
       "                                           algorithm  \n",
       "0                    GaussianMixture(n_components=2)  \n",
       "1                KMeans(n_clusters=2, n_init='auto')  \n",
       "2  MiniBatchKMeans(batch_size=1536, n_clusters=2,...  \n",
       "3                          AgglomerativeClustering()  "
      ]
     },
     "execution_count": 49,
     "metadata": {},
     "output_type": "execute_result"
    }
   ],
   "source": [
    "results_df_full_PCA= evaluate_unsupervised(algorithms,X_pca)\n",
    "results_df_full_PCA"
   ]
  },
  {
   "cell_type": "code",
   "execution_count": 50,
   "metadata": {},
   "outputs": [
    {
     "name": "stdout",
     "output_type": "stream",
     "text": [
      "GM  Done\n",
      "K-Means  Done\n",
      "MiniBatchKMeans  Done\n",
      "AgglomerativeClustering  Done\n"
     ]
    },
    {
     "data": {
      "text/html": [
       "<div>\n",
       "<style scoped>\n",
       "    .dataframe tbody tr th:only-of-type {\n",
       "        vertical-align: middle;\n",
       "    }\n",
       "\n",
       "    .dataframe tbody tr th {\n",
       "        vertical-align: top;\n",
       "    }\n",
       "\n",
       "    .dataframe thead th {\n",
       "        text-align: right;\n",
       "    }\n",
       "</style>\n",
       "<table border=\"1\" class=\"dataframe\">\n",
       "  <thead>\n",
       "    <tr style=\"text-align: right;\">\n",
       "      <th></th>\n",
       "      <th>Algorithm</th>\n",
       "      <th>Silhouette Score</th>\n",
       "      <th>TPR</th>\n",
       "      <th>FPR</th>\n",
       "      <th>TP</th>\n",
       "      <th>FP</th>\n",
       "      <th>TN</th>\n",
       "      <th>FN</th>\n",
       "      <th>Sensitivity</th>\n",
       "      <th>Specificity</th>\n",
       "      <th>Precision</th>\n",
       "      <th>Recall</th>\n",
       "      <th>ROC_AUC</th>\n",
       "      <th>Accuracy</th>\n",
       "      <th>F1-Score</th>\n",
       "      <th>Data 2 Features</th>\n",
       "      <th>algorithm</th>\n",
       "    </tr>\n",
       "  </thead>\n",
       "  <tbody>\n",
       "    <tr>\n",
       "      <th>0</th>\n",
       "      <td>GM</td>\n",
       "      <td>0.181472</td>\n",
       "      <td>0.303667</td>\n",
       "      <td>0.303667</td>\n",
       "      <td>911</td>\n",
       "      <td>1990</td>\n",
       "      <td>1010</td>\n",
       "      <td>2089</td>\n",
       "      <td>0.303667</td>\n",
       "      <td>0.336667</td>\n",
       "      <td>0.314030</td>\n",
       "      <td>0.303667</td>\n",
       "      <td>0.320167</td>\n",
       "      <td>0.320167</td>\n",
       "      <td>0.308761</td>\n",
       "      <td>[[19.466763, -3.0926719], [-68.44903, 96.48294...</td>\n",
       "      <td>GaussianMixture(n_components=2)</td>\n",
       "    </tr>\n",
       "    <tr>\n",
       "      <th>1</th>\n",
       "      <td>K-Means</td>\n",
       "      <td>0.187447</td>\n",
       "      <td>0.696333</td>\n",
       "      <td>0.696333</td>\n",
       "      <td>2089</td>\n",
       "      <td>950</td>\n",
       "      <td>2050</td>\n",
       "      <td>911</td>\n",
       "      <td>0.696333</td>\n",
       "      <td>0.683333</td>\n",
       "      <td>0.687397</td>\n",
       "      <td>0.696333</td>\n",
       "      <td>0.689833</td>\n",
       "      <td>0.689833</td>\n",
       "      <td>0.691836</td>\n",
       "      <td>[[19.466763, -3.0926719], [-68.44903, 96.48294...</td>\n",
       "      <td>KMeans(n_clusters=2, n_init='auto')</td>\n",
       "    </tr>\n",
       "    <tr>\n",
       "      <th>2</th>\n",
       "      <td>MiniBatchKMeans</td>\n",
       "      <td>0.173089</td>\n",
       "      <td>0.331667</td>\n",
       "      <td>0.331667</td>\n",
       "      <td>995</td>\n",
       "      <td>2112</td>\n",
       "      <td>888</td>\n",
       "      <td>2005</td>\n",
       "      <td>0.331667</td>\n",
       "      <td>0.296000</td>\n",
       "      <td>0.320245</td>\n",
       "      <td>0.331667</td>\n",
       "      <td>0.313833</td>\n",
       "      <td>0.313833</td>\n",
       "      <td>0.325856</td>\n",
       "      <td>[[19.466763, -3.0926719], [-68.44903, 96.48294...</td>\n",
       "      <td>MiniBatchKMeans(batch_size=1536, n_clusters=2,...</td>\n",
       "    </tr>\n",
       "    <tr>\n",
       "      <th>3</th>\n",
       "      <td>AgglomerativeClustering</td>\n",
       "      <td>0.069482</td>\n",
       "      <td>0.361667</td>\n",
       "      <td>0.361667</td>\n",
       "      <td>1085</td>\n",
       "      <td>902</td>\n",
       "      <td>2098</td>\n",
       "      <td>1915</td>\n",
       "      <td>0.361667</td>\n",
       "      <td>0.699333</td>\n",
       "      <td>0.546049</td>\n",
       "      <td>0.361667</td>\n",
       "      <td>0.530500</td>\n",
       "      <td>0.530500</td>\n",
       "      <td>0.435131</td>\n",
       "      <td>[[19.466763, -3.0926719], [-68.44903, 96.48294...</td>\n",
       "      <td>AgglomerativeClustering()</td>\n",
       "    </tr>\n",
       "  </tbody>\n",
       "</table>\n",
       "</div>"
      ],
      "text/plain": [
       "                 Algorithm  Silhouette Score       TPR       FPR    TP    FP  \\\n",
       "0                       GM          0.181472  0.303667  0.303667   911  1990   \n",
       "1                  K-Means          0.187447  0.696333  0.696333  2089   950   \n",
       "2          MiniBatchKMeans          0.173089  0.331667  0.331667   995  2112   \n",
       "3  AgglomerativeClustering          0.069482  0.361667  0.361667  1085   902   \n",
       "\n",
       "     TN    FN  Sensitivity  Specificity  Precision    Recall   ROC_AUC  \\\n",
       "0  1010  2089     0.303667     0.336667   0.314030  0.303667  0.320167   \n",
       "1  2050   911     0.696333     0.683333   0.687397  0.696333  0.689833   \n",
       "2   888  2005     0.331667     0.296000   0.320245  0.331667  0.313833   \n",
       "3  2098  1915     0.361667     0.699333   0.546049  0.361667  0.530500   \n",
       "\n",
       "   Accuracy  F1-Score                                    Data 2 Features  \\\n",
       "0  0.320167  0.308761  [[19.466763, -3.0926719], [-68.44903, 96.48294...   \n",
       "1  0.689833  0.691836  [[19.466763, -3.0926719], [-68.44903, 96.48294...   \n",
       "2  0.313833  0.325856  [[19.466763, -3.0926719], [-68.44903, 96.48294...   \n",
       "3  0.530500  0.435131  [[19.466763, -3.0926719], [-68.44903, 96.48294...   \n",
       "\n",
       "                                           algorithm  \n",
       "0                    GaussianMixture(n_components=2)  \n",
       "1                KMeans(n_clusters=2, n_init='auto')  \n",
       "2  MiniBatchKMeans(batch_size=1536, n_clusters=2,...  \n",
       "3                          AgglomerativeClustering()  "
      ]
     },
     "execution_count": 50,
     "metadata": {},
     "output_type": "execute_result"
    }
   ],
   "source": [
    "results_df_full_tsne = evaluate_unsupervised(algorithms,X_tsne)\n",
    "results_df_full_tsne"
   ]
  }
 ],
 "metadata": {
  "colab": {
   "include_colab_link": true,
   "provenance": []
  },
  "kernelspec": {
   "display_name": "Python 3 (ipykernel)",
   "language": "python",
   "name": "python3"
  },
  "language_info": {
   "codemirror_mode": {
    "name": "ipython",
    "version": 3
   },
   "file_extension": ".py",
   "mimetype": "text/x-python",
   "name": "python",
   "nbconvert_exporter": "python",
   "pygments_lexer": "ipython3",
   "version": "3.11.5"
  }
 },
 "nbformat": 4,
 "nbformat_minor": 1
}
