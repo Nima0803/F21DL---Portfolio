{
  "nbformat": 4,
  "nbformat_minor": 0,
  "metadata": {
    "colab": {
      "provenance": [],
      "authorship_tag": "ABX9TyNfhE2N9oxX3nzm512gNPeT",
      "include_colab_link": true
    },
    "kernelspec": {
      "name": "python3",
      "display_name": "Python 3"
    },
    "language_info": {
      "name": "python"
    }
  },
  "cells": [
    {
      "cell_type": "markdown",
      "metadata": {
        "id": "view-in-github",
        "colab_type": "text"
      },
      "source": [
        "<a href=\"https://colab.research.google.com/github/farheenfab/DMML-GroupProject/blob/Ishaq/Lab/Lab%204/dataset_explore_lab_4_group_6.ipynb\" target=\"_parent\"><img src=\"https://colab.research.google.com/assets/colab-badge.svg\" alt=\"Open In Colab\"/></a>"
      ]
    },
    {
      "cell_type": "code",
      "execution_count": 4,
      "metadata": {
        "id": "WW2y_rEEb9zq"
      },
      "outputs": [],
      "source": [
        "import os\n",
        "import requests\n",
        "import zipfile\n",
        "from sklearn.model_selection import train_test_split\n",
        "\n",
        "dataset_url = 'https://github.com/ishaqmarashy/DATALFS/raw/main/JMuBEN.zip'\n",
        "dataset_dir = './JMuBEN'\n",
        "\n",
        "# create directory for dataset if it does not exist\n",
        "if not os.path.exists(dataset_dir):\n",
        "    os.makedirs(dataset_dir)\n",
        "# append JMuBEN.zip to the end of the path (this is where we download the file to)\n",
        "zip_file_path = os.path.join(dataset_dir, 'JMuBEN.zip')\n",
        "\n",
        "# check if file is downloaded already\n",
        "if not os.path.exists(zip_file_path):\n",
        "    # file is not downloaded so fetch the file\n",
        "    response = requests.get(dataset_url)\n",
        "    # write file to storage which is recieved from the response\n",
        "    with open(zip_file_path, 'wb') as zip_file:\n",
        "        zip_file.write(response.content)\n",
        "\n",
        "# unzip to zip file path\n",
        "with zipfile.ZipFile(zip_file_path, 'r') as zip_ref:\n",
        "    zip_ref.extractall(dataset_dir)\n",
        "# within the concat train and test to become ./JMuBEN/train and JMuBEN ./JMuBEN/test\n",
        "train_dir = os.path.join(dataset_dir, 'train')\n",
        "test_dir = os.path.join(dataset_dir, 'test')"
      ]
    },
    {
      "cell_type": "code",
      "source": [
        "def load_images_and_labels(directory):\n",
        "    images = []\n",
        "    labels = []\n",
        "    # get subdirectories Healthy and Miner\n",
        "    for class_name in os.listdir(directory):\n",
        "        # concat subdirectory to get full path\n",
        "        class_dir = os.path.join(directory, class_name)\n",
        "        # assign labels using class subdirectory\n",
        "        # label is determined by filepath\n",
        "        label = 0 if class_name == 'Miner' else 1\n",
        "        # append labels and image paths to labels and images respectively\n",
        "        for filename in os.listdir(class_dir):\n",
        "            images.append(os.path.join(class_dir, filename))\n",
        "            labels.append(label)\n",
        "    return images, labels\n",
        "\n",
        "# load file directories and their labels\n",
        "train_images, train_labels = load_images_and_labels(train_dir)\n",
        "test_images, test_labels = load_images_and_labels(test_dir)"
      ],
      "metadata": {
        "id": "HHISoHjqfUze"
      },
      "execution_count": 5,
      "outputs": []
    },
    {
      "cell_type": "code",
      "source": [
        "# unnecessary but we can farther split the training data using scikitlearn to smaller test train sets\n",
        "X_train, X_test, y_train, y_test = train_test_split(train_images, train_labels, test_size=0.2, random_state=42)\n",
        "\n",
        "# print the number of images and labels\n",
        "print(f\"Train :{len(X_train)}\")\n",
        "print(f\"Test :{len(X_test)}\")"
      ],
      "metadata": {
        "id": "MYXuHNRZhCnj",
        "outputId": "ecb41dcf-8e5f-459f-b22d-f3ee7ac8d07f",
        "colab": {
          "base_uri": "https://localhost:8080/"
        }
      },
      "execution_count": 6,
      "outputs": [
        {
          "output_type": "stream",
          "name": "stdout",
          "text": [
            "Train :19200\n",
            "Test :4800\n"
          ]
        }
      ]
    }
  ]
}