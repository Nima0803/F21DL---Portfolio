{
  "cells": [
    {
      "cell_type": "code",
      "execution_count": 1,
      "metadata": {},
      "outputs": [],
      "source": [
        "import os\n",
        "import requests\n",
        "import zipfile\n",
        "import numpy as np\n",
        "\n",
        "dataset_url = 'https://github.com/ishaqmarashy/DATALFS/raw/main/JMuBEN.zip'\n",
        "dataset_dir = './JMuBEN'\n",
        "\n",
        "# create directory for dataset if it does not exist\n",
        "if not os.path.exists(dataset_dir):\n",
        "    os.makedirs(dataset_dir)\n",
        "# append JMuBEN.zip to the end of the path (this is where we download the file to)\n",
        "zip_file_path = os.path.join(dataset_dir, 'JMuBEN.zip')\n",
        "\n",
        "# check if file is downloaded already\n",
        "if not os.path.exists(zip_file_path):\n",
        "    # file is not downloaded so fetch the file\n",
        "    response = requests.get(dataset_url)\n",
        "    # write file to storage which is recieved from the response\n",
        "    with open(zip_file_path, 'wb') as zip_file:\n",
        "        zip_file.write(response.content)\n",
        "    # unzip to zip file path\n",
        "    with zipfile.ZipFile(zip_file_path, 'r') as zip_ref:\n",
        "        zip_ref.extractall(dataset_dir)\n",
        "\n",
        "# within the concat train and test to become ./JMuBEN/train and JMuBEN ./JMuBEN/test\n",
        "train_dir = os.path.join(dataset_dir, 'train')\n",
        "test_dir = os.path.join(dataset_dir, 'test')"
      ]
    },
    {
      "cell_type": "code",
      "execution_count": 2,
      "metadata": {
        "id": "wNVZNNGPpUsJ"
      },
      "outputs": [],
      "source": [
        "def load_images_and_labels(directory):\n",
        "    images = []\n",
        "    labels = []\n",
        "    # get subdirectories Healthy and Miner\n",
        "    for class_name in os.listdir(directory):\n",
        "        # concat subdirectory to get full path\n",
        "        class_dir = os.path.join(directory, class_name)\n",
        "        # assign labels using class subdirectory\n",
        "        # label is determined by filepath\n",
        "        label = 0 if class_name == 'Miner' else 1\n",
        "        # append labels and image paths to labels and images respectively\n",
        "        for filename in os.listdir(class_dir):\n",
        "            images.append(os.path.join(class_dir, filename))\n",
        "            labels.append(label)\n",
        "    return images, labels\n",
        "\n",
        "# load file directories and their labels\n",
        "train_images_dir, train_labels = load_images_and_labels(train_dir)\n",
        "test_images_dir, test_labels = load_images_and_labels(test_dir)"
      ]
    },
    {
      "cell_type": "code",
      "execution_count": 3,
      "metadata": {
        "colab": {
          "base_uri": "https://localhost:8080/"
        },
        "id": "-wWJu4XIpUsK",
        "outputId": "b5dc0d20-b7a1-4b1b-a1b2-dfe19da8c1ef"
      },
      "outputs": [
        {
          "name": "stdout",
          "output_type": "stream",
          "text": [
            "Train images:24000  Labels:24000\n",
            "Test images:6000  Labels:6000\n",
            "./JMuBEN\\train\\Healthy\\1 (4490).jpg 1\n"
          ]
        }
      ],
      "source": [
        "# X_train, X_test, y_train, y_test = train_test_split(train_images_dir, train_labels, test_size=0.2, random_state=42)\n",
        "\n",
        "# print the number of images and labels\n",
        "print(f\"Train images:{len(train_images_dir)}  Labels:{len(train_labels)}\")\n",
        "print(f\"Test images:{len(test_images_dir)}  Labels:{len(test_labels)}\")\n",
        "print(train_images_dir[0], train_labels[0])"
      ]
    },
    {
      "cell_type": "code",
      "execution_count": 5,
      "metadata": {
        "id": "6lxOlSPGrUn8"
      },
      "outputs": [
        {
          "ename": "MemoryError",
          "evalue": "Unable to allocate 2.93 GiB for an array with shape (24000, 128, 128) and data type float64",
          "output_type": "error",
          "traceback": [
            "\u001b[1;31m---------------------------------------------------------------------------\u001b[0m",
            "\u001b[1;31mMemoryError\u001b[0m                               Traceback (most recent call last)",
            "\u001b[1;32mc:\\Users\\hp\\Documents\\GitHub\\DMML-GroupProject\\Lab\\Lab 4\\dataset_explore_lab_4_group_6.ipynb Cell 4\u001b[0m line \u001b[0;36m1\n\u001b[0;32m      <a href='vscode-notebook-cell:/c%3A/Users/hp/Documents/GitHub/DMML-GroupProject/Lab/Lab%204/dataset_explore_lab_4_group_6.ipynb#W3sZmlsZQ%3D%3D?line=8'>9</a>\u001b[0m         images\u001b[39m.\u001b[39mappend(img)\n\u001b[0;32m     <a href='vscode-notebook-cell:/c%3A/Users/hp/Documents/GitHub/DMML-GroupProject/Lab/Lab%204/dataset_explore_lab_4_group_6.ipynb#W3sZmlsZQ%3D%3D?line=9'>10</a>\u001b[0m     \u001b[39mreturn\u001b[39;00m np\u001b[39m.\u001b[39marray(images)\n\u001b[1;32m---> <a href='vscode-notebook-cell:/c%3A/Users/hp/Documents/GitHub/DMML-GroupProject/Lab/Lab%204/dataset_explore_lab_4_group_6.ipynb#W3sZmlsZQ%3D%3D?line=11'>12</a>\u001b[0m train_images\u001b[39m=\u001b[39mload_normalize_images(train_images_dir)\n\u001b[0;32m     <a href='vscode-notebook-cell:/c%3A/Users/hp/Documents/GitHub/DMML-GroupProject/Lab/Lab%204/dataset_explore_lab_4_group_6.ipynb#W3sZmlsZQ%3D%3D?line=12'>13</a>\u001b[0m test_images\u001b[39m=\u001b[39mload_normalize_images(test_images_dir)\n",
            "\u001b[1;32mc:\\Users\\hp\\Documents\\GitHub\\DMML-GroupProject\\Lab\\Lab 4\\dataset_explore_lab_4_group_6.ipynb Cell 4\u001b[0m line \u001b[0;36m1\n\u001b[0;32m      <a href='vscode-notebook-cell:/c%3A/Users/hp/Documents/GitHub/DMML-GroupProject/Lab/Lab%204/dataset_explore_lab_4_group_6.ipynb#W3sZmlsZQ%3D%3D?line=7'>8</a>\u001b[0m     img \u001b[39m=\u001b[39m img \u001b[39m/\u001b[39m \u001b[39m255.0\u001b[39m  \u001b[39m# normalize\u001b[39;00m\n\u001b[0;32m      <a href='vscode-notebook-cell:/c%3A/Users/hp/Documents/GitHub/DMML-GroupProject/Lab/Lab%204/dataset_explore_lab_4_group_6.ipynb#W3sZmlsZQ%3D%3D?line=8'>9</a>\u001b[0m     images\u001b[39m.\u001b[39mappend(img)\n\u001b[1;32m---> <a href='vscode-notebook-cell:/c%3A/Users/hp/Documents/GitHub/DMML-GroupProject/Lab/Lab%204/dataset_explore_lab_4_group_6.ipynb#W3sZmlsZQ%3D%3D?line=9'>10</a>\u001b[0m \u001b[39mreturn\u001b[39;00m np\u001b[39m.\u001b[39;49marray(images)\n",
            "\u001b[1;31mMemoryError\u001b[0m: Unable to allocate 2.93 GiB for an array with shape (24000, 128, 128) and data type float64"
          ]
        }
      ],
      "source": [
        "import cv2\n",
        "\n",
        "def load_normalize_images(image_paths):\n",
        "    images = []\n",
        "    for image_path in image_paths:\n",
        "        img = cv2.imread(image_path, cv2.IMREAD_GRAYSCALE)  #  grayscale\n",
        "        img = cv2.resize(img, (128, 128))  # resize\n",
        "        img = img / 255.0  # normalize\n",
        "        images.append(img)\n",
        "    return np.array(images)\n",
        "\n",
        "train_images=load_normalize_images(train_images_dir)\n",
        "test_images=load_normalize_images(test_images_dir)"
      ]
    },
    {
      "cell_type": "markdown",
      "metadata": {},
      "source": [
        "# CNN"
      ]
    },
    {
      "cell_type": "code",
      "execution_count": null,
      "metadata": {},
      "outputs": [],
      "source": [
        "import pandas as pd\n",
        "from sklearn.metrics import classification_report\n",
        "import seaborn as sn; sn.set(font_scale=1.4)\n",
        "from sklearn.utils import shuffle\n",
        "import matplotlib.pyplot as plt\n",
        "import tensorflow as tf\n",
        "from tqdm import tqdm"
      ]
    },
    {
      "cell_type": "code",
      "execution_count": null,
      "metadata": {},
      "outputs": [],
      "source": [
        "print(train_images[0])\n",
        "print(train_labels[0])\n",
        "\n",
        "plt.figure()\n",
        "plt.imshow(train_images[0])\n",
        "plt.colorbar()\n",
        "plt.grid(False)\n",
        "plt.show()"
      ]
    },
    {
      "cell_type": "code",
      "execution_count": null,
      "metadata": {},
      "outputs": [],
      "source": [
        "model = tf.keras.Sequential([\n",
        "    tf.keras.layers.Input(shape=(128, 128, 1)),\n",
        "    tf.keras.layers.Conv2D(32,(3,3),activation = 'relu'), \n",
        "    tf.keras.layers.MaxPooling2D(2,2),\n",
        "    tf.keras.layers.Conv2D(32,(3,3),activation = 'relu'), \n",
        "    tf.keras.layers.MaxPooling2D(2,2), \n",
        "    tf.keras.layers.Flatten(),\n",
        "    tf.keras.layers.Dense(128,activation = tf.nn.relu) ,\n",
        "    tf.keras.layers.Dense(2,activation=tf.nn.softmax)\n",
        "])"
      ]
    },
    {
      "cell_type": "code",
      "execution_count": null,
      "metadata": {},
      "outputs": [],
      "source": [
        "model.compile(optimizer = 'adam', loss = 'sparse_categorical_crossentropy', metrics=['accuracy'])"
      ]
    },
    {
      "cell_type": "code",
      "execution_count": null,
      "metadata": {},
      "outputs": [],
      "source": [
        "history = model.fit(np.asarray(train_images, dtype=np.float32), np.asarray(train_labels), batch_size=128, epochs=6, validation_split=0.2)"
      ]
    },
    {
      "cell_type": "code",
      "execution_count": null,
      "metadata": {},
      "outputs": [],
      "source": [
        "# SGD Classifier used in google collab\n",
        "from sklearn.linear_model import SGDClassifier\n",
        "\n",
        "sgd_clf = SGDClassifier(max_iter=1000, tol=1e-3, random_state=42)\n",
        "sgd_clf.fit(train_images, train_labels)"
      ]
    },
    {
      "cell_type": "code",
      "execution_count": null,
      "metadata": {},
      "outputs": [],
      "source": [
        "sgd_clf.predict(test_images)"
      ]
    }
  ],
  "metadata": {
    "colab": {
      "include_colab_link": true,
      "provenance": []
    },
    "kernelspec": {
      "display_name": "Python 3",
      "name": "python3"
    },
    "language_info": {
      "codemirror_mode": {
        "name": "ipython",
        "version": 3
      },
      "file_extension": ".py",
      "mimetype": "text/x-python",
      "name": "python",
      "nbconvert_exporter": "python",
      "pygments_lexer": "ipython3",
      "version": "3.10.9"
    }
  },
  "nbformat": 4,
  "nbformat_minor": 0
}
