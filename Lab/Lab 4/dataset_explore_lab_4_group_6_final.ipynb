{
 "cells": [
  {
   "cell_type": "markdown",
   "metadata": {},
   "source": [
    "# Lab 4"
   ]
  },
  {
   "cell_type": "markdown",
   "metadata": {},
   "source": [
    "## JMuBEN2 dataset\n"
   ]
  },
  {
   "cell_type": "markdown",
   "metadata": {},
   "source": [
    "(https://data.mendeley.com/datasets/tgv3zb82nd/1)\n",
    "\n",
    "Image dataset taken from an Arabica coffee plantation. The image dataset contains collection of healthy and miner coffee leaves."
   ]
  },
  {
   "cell_type": "markdown",
   "metadata": {},
   "source": [
    "# Loading and Spliting the dataset "
   ]
  },
  {
   "cell_type": "code",
   "execution_count": 1,
   "metadata": {},
   "outputs": [],
   "source": [
    "import os\n",
    "import requests\n",
    "import zipfile\n",
    "import numpy as np\n",
    "\n",
    "dataset_url = 'https://github.com/ishaqmarashy/DATALFS/raw/main/JMuBEN.zip'\n",
    "dataset_dir = './JMuBEN'\n",
    "\n",
    "# create directory for dataset if it does not exist\n",
    "if not os.path.exists(dataset_dir):\n",
    "    os.makedirs(dataset_dir)\n",
    "    \n",
    "# append JMuBEN.zip to the end of the path (this is where we download the file to)\n",
    "zip_file_path = os.path.join(dataset_dir, 'JMuBEN.zip')\n",
    "\n",
    "\n",
    "# check if file is downloaded already\n",
    "if not os.path.exists(zip_file_path):\n",
    "    \n",
    "    # file is not downloaded so fetch the file\n",
    "    response = requests.get(dataset_url)\n",
    "    \n",
    "    # write file to storage which is recieved from the response\n",
    "    with open(zip_file_path, 'wb') as zip_file:\n",
    "        zip_file.write(response.content)\n",
    "        \n",
    "    # unzip to zip file path\n",
    "    with zipfile.ZipFile(zip_file_path, 'r') as zip_ref:\n",
    "        zip_ref.extractall(dataset_dir)\n",
    "\n",
    "# within the concat train and test to become ./JMuBEN/train and JMuBEN ./JMuBEN/test\n",
    "train_dir = os.path.join(dataset_dir, 'train')\n",
    "test_dir = os.path.join(dataset_dir, 'test')"
   ]
  },
  {
   "cell_type": "code",
   "execution_count": 2,
   "metadata": {
    "id": "wNVZNNGPpUsJ"
   },
   "outputs": [],
   "source": [
    "def load_images_and_labels(directory):\n",
    "    images = []\n",
    "    labels = []\n",
    "    \n",
    "    # get subdirectories Healthy and Miner\n",
    "    \n",
    "    for class_name in os.listdir(directory):\n",
    "        \n",
    "        # concat subdirectory to get full path\n",
    "        class_dir = os.path.join(directory, class_name)\n",
    "        # assign labels using class subdirectory\n",
    "        # label is determined by filepath\n",
    "        label = 0 if class_name == 'Miner' else 1\n",
    "        \n",
    "        # append labels and image paths to labels and images respectively\n",
    "        for filename in os.listdir(class_dir):\n",
    "            images.append(os.path.join(class_dir, filename))\n",
    "            labels.append(label)\n",
    "            \n",
    "    return images, labels\n",
    "\n",
    "# load file directories and their labels\n",
    "train_images_dir, train_labels = load_images_and_labels(train_dir)\n",
    "test_images_dir, test_labels = load_images_and_labels(test_dir)"
   ]
  },
  {
   "cell_type": "code",
   "execution_count": 3,
   "metadata": {
    "colab": {
     "base_uri": "https://localhost:8080/"
    },
    "id": "-wWJu4XIpUsK",
    "outputId": "b5dc0d20-b7a1-4b1b-a1b2-dfe19da8c1ef"
   },
   "outputs": [
    {
     "name": "stdout",
     "output_type": "stream",
     "text": [
      "Train images:24000  Labels:24000\n",
      "Test images:6000  Labels:6000\n"
     ]
    }
   ],
   "source": [
    "# print the number of images and labels\n",
    "\n",
    "print(f\"Train images:{len(train_images_dir)}  Labels:{len(train_labels)}\")\n",
    "print(f\"Test images:{len(test_images_dir)}  Labels:{len(test_labels)}\")\n"
   ]
  },
  {
   "cell_type": "markdown",
   "metadata": {},
   "source": [
    "# Pre-processing and Normalization"
   ]
  },
  {
   "cell_type": "markdown",
   "metadata": {},
   "source": [
    "Images in the dataset were converted to grayscale and resized to 128x128"
   ]
  },
  {
   "cell_type": "markdown",
   "metadata": {},
   "source": [
    "Tried loading as described https://www.analyticsvidhya.com/blog/2021/07/step-by-step-guide-for-image-classification-on-custom-datasets/\n",
    "\n",
    "https://towardsdatascience.com/pipelines-custom-transformers-in-scikit-learn-the-step-by-step-guide-with-python-code-4a7d9b068156"
   ]
  },
  {
   "cell_type": "code",
   "execution_count": 4,
   "metadata": {
    "id": "6lxOlSPGrUn8"
   },
   "outputs": [],
   "source": [
    "import cv2\n",
    "from sklearn.pipeline import Pipeline\n",
    "from sklearn.preprocessing import FunctionTransformer\n",
    "\n",
    "def load_grayscale_images(image_paths):\n",
    "    for image_path in image_paths:\n",
    "        img = cv2.imread(image_path, cv2.IMREAD_GRAYSCALE)  #  grayscale\n",
    "    return img\n",
    "\n",
    "def resize_images(img):\n",
    "    img = cv2.resize(img, (128, 128))  # resize\n",
    "    return img\n",
    "\n",
    "def normalize_image(img):\n",
    "    img = img / 255.0  # normalize\n",
    "    return img\n",
    "\n",
    "image_pipeline = Pipeline(steps=[\n",
    "    ('load_grayscale_images', FunctionTransformer(load_grayscale_images)),\n",
    "    ('resize_images', FunctionTransformer(resize_images)),\n",
    "    ('normalize_image', FunctionTransformer(normalize_image))\n",
    "])\n",
    "\n",
    "\n",
    "train_images=image_pipeline.transform(train_images_dir)\n",
    "test_images=image_pipeline.transform(test_images_dir)"
   ]
  },
  {
   "cell_type": "markdown",
   "metadata": {},
   "source": [
    "# Model Training"
   ]
  },
  {
   "cell_type": "markdown",
   "metadata": {},
   "source": [
    "## CNN Model"
   ]
  },
  {
   "cell_type": "code",
   "execution_count": 5,
   "metadata": {},
   "outputs": [],
   "source": [
    "import pandas as pd\n",
    "from sklearn.metrics import classification_report\n",
    "import seaborn as sn; sn.set(font_scale=1.4)\n",
    "from sklearn.utils import shuffle\n",
    "import matplotlib.pyplot as plt\n",
    "import tensorflow as tf\n",
    "from tqdm import tqdm\n",
    "\n",
    "from sklearn.model_selection import KFold"
   ]
  },
  {
   "cell_type": "code",
   "execution_count": 6,
   "metadata": {},
   "outputs": [
    {
     "name": "stdout",
     "output_type": "stream",
     "text": [
      "Epoch 1/50\n",
      "150/150 [==============================] - 188s 1s/step - loss: 0.6898 - accuracy: 0.6350 - val_loss: 0.6535 - val_accuracy: 0.8575\n",
      "Epoch 2/50\n",
      "150/150 [==============================] - 160s 1s/step - loss: 0.6427 - accuracy: 0.7072 - val_loss: 0.3882 - val_accuracy: 0.8012\n",
      "Epoch 3/50\n",
      "150/150 [==============================] - 1016s 7s/step - loss: 0.5377 - accuracy: 0.8571 - val_loss: 0.2119 - val_accuracy: 0.8694\n",
      "Epoch 4/50\n",
      "150/150 [==============================] - 179s 1s/step - loss: 0.5096 - accuracy: 0.8879 - val_loss: 0.1564 - val_accuracy: 0.9615\n",
      "Epoch 5/50\n",
      "150/150 [==============================] - 158s 1s/step - loss: 0.4912 - accuracy: 0.8966 - val_loss: 0.1384 - val_accuracy: 0.9529\n",
      "Epoch 6/50\n",
      "150/150 [==============================] - 160s 1s/step - loss: 0.4798 - accuracy: 0.8957 - val_loss: 0.1105 - val_accuracy: 0.9567\n",
      "Epoch 7/50\n",
      "150/150 [==============================] - 173s 1s/step - loss: 0.4642 - accuracy: 0.9015 - val_loss: 0.0906 - val_accuracy: 0.9688\n",
      "Epoch 8/50\n",
      "150/150 [==============================] - 162s 1s/step - loss: 0.4533 - accuracy: 0.9026 - val_loss: 0.0839 - val_accuracy: 0.9654\n",
      "Epoch 9/50\n",
      "150/150 [==============================] - 161s 1s/step - loss: 0.4490 - accuracy: 0.8991 - val_loss: 0.0729 - val_accuracy: 0.9760\n",
      "Epoch 10/50\n",
      "150/150 [==============================] - 201s 1s/step - loss: 0.4413 - accuracy: 0.8980 - val_loss: 0.0789 - val_accuracy: 0.9625\n",
      "Epoch 11/50\n",
      "150/150 [==============================] - 195s 1s/step - loss: 0.4316 - accuracy: 0.9016 - val_loss: 0.0642 - val_accuracy: 0.9769\n",
      "Epoch 12/50\n",
      "150/150 [==============================] - 168s 1s/step - loss: 0.4263 - accuracy: 0.8994 - val_loss: 0.0641 - val_accuracy: 0.9638\n",
      "Epoch 13/50\n",
      "150/150 [==============================] - 168s 1s/step - loss: 0.4186 - accuracy: 0.9015 - val_loss: 0.0623 - val_accuracy: 0.9777\n",
      "Epoch 14/50\n",
      "150/150 [==============================] - 164s 1s/step - loss: 0.4173 - accuracy: 0.8981 - val_loss: 0.0536 - val_accuracy: 0.9785\n",
      "Epoch 15/50\n",
      "150/150 [==============================] - 167s 1s/step - loss: 0.4058 - accuracy: 0.9022 - val_loss: 0.0454 - val_accuracy: 0.9842\n",
      "Epoch 16/50\n",
      "150/150 [==============================] - 166s 1s/step - loss: 0.4006 - accuracy: 0.9022 - val_loss: 0.0443 - val_accuracy: 0.9850\n",
      "Epoch 17/50\n",
      "150/150 [==============================] - 167s 1s/step - loss: 0.3948 - accuracy: 0.9026 - val_loss: 0.0620 - val_accuracy: 0.9669\n",
      "Epoch 18/50\n",
      "150/150 [==============================] - 166s 1s/step - loss: 0.3916 - accuracy: 0.9014 - val_loss: 0.0545 - val_accuracy: 0.9731\n",
      "Epoch 19/50\n",
      "150/150 [==============================] - 166s 1s/step - loss: 0.3851 - accuracy: 0.9033 - val_loss: 0.0352 - val_accuracy: 0.9883\n",
      "Epoch 20/50\n",
      "150/150 [==============================] - 167s 1s/step - loss: 0.3801 - accuracy: 0.9041 - val_loss: 0.0296 - val_accuracy: 0.9933\n",
      "Epoch 21/50\n",
      "150/150 [==============================] - 167s 1s/step - loss: 0.3750 - accuracy: 0.9040 - val_loss: 0.0300 - val_accuracy: 0.9929\n",
      "Epoch 22/50\n",
      "150/150 [==============================] - 165s 1s/step - loss: 0.3674 - accuracy: 0.9066 - val_loss: 0.0239 - val_accuracy: 0.9933\n",
      "Epoch 23/50\n",
      "150/150 [==============================] - 168s 1s/step - loss: 0.3668 - accuracy: 0.9034 - val_loss: 0.0300 - val_accuracy: 0.9929\n",
      "Epoch 24/50\n",
      "150/150 [==============================] - 167s 1s/step - loss: 0.3610 - accuracy: 0.9055 - val_loss: 0.0273 - val_accuracy: 0.9933\n",
      "Epoch 25/50\n",
      "150/150 [==============================] - 167s 1s/step - loss: 0.3576 - accuracy: 0.9052 - val_loss: 0.0208 - val_accuracy: 0.9933\n",
      "Epoch 26/50\n",
      "150/150 [==============================] - 168s 1s/step - loss: 0.3526 - accuracy: 0.9063 - val_loss: 0.0195 - val_accuracy: 0.9933\n",
      "Epoch 27/50\n",
      "150/150 [==============================] - 166s 1s/step - loss: 0.3538 - accuracy: 0.9021 - val_loss: 0.0214 - val_accuracy: 0.9933\n",
      "Epoch 28/50\n",
      "150/150 [==============================] - 169s 1s/step - loss: 0.3437 - accuracy: 0.9078 - val_loss: 0.0167 - val_accuracy: 0.9933\n",
      "Epoch 29/50\n",
      "150/150 [==============================] - 165s 1s/step - loss: 0.3432 - accuracy: 0.9054 - val_loss: 0.0131 - val_accuracy: 0.9937\n",
      "Epoch 30/50\n",
      "150/150 [==============================] - 168s 1s/step - loss: 0.3400 - accuracy: 0.9051 - val_loss: 0.0124 - val_accuracy: 0.9954\n",
      "Epoch 31/50\n",
      "150/150 [==============================] - 164s 1s/step - loss: 0.3378 - accuracy: 0.9051 - val_loss: 0.0167 - val_accuracy: 0.9933\n",
      "Epoch 32/50\n",
      "150/150 [==============================] - 168s 1s/step - loss: 0.3316 - accuracy: 0.9074 - val_loss: 0.0151 - val_accuracy: 0.9954\n",
      "Epoch 33/50\n",
      "150/150 [==============================] - 165s 1s/step - loss: 0.2984 - accuracy: 0.9343 - val_loss: 0.0098 - val_accuracy: 0.9954\n",
      "Epoch 34/50\n",
      "150/150 [==============================] - 165s 1s/step - loss: 0.2618 - accuracy: 0.9595 - val_loss: 0.0090 - val_accuracy: 0.9960\n",
      "Epoch 35/50\n",
      "150/150 [==============================] - 167s 1s/step - loss: 0.2500 - accuracy: 0.9648 - val_loss: 0.0097 - val_accuracy: 0.9967\n",
      "Epoch 36/50\n",
      "150/150 [==============================] - 165s 1s/step - loss: 0.2400 - accuracy: 0.9690 - val_loss: 0.0086 - val_accuracy: 0.9985\n",
      "Epoch 37/50\n",
      "150/150 [==============================] - 167s 1s/step - loss: 0.2321 - accuracy: 0.9718 - val_loss: 0.0080 - val_accuracy: 0.9967\n",
      "Epoch 38/50\n",
      "150/150 [==============================] - 165s 1s/step - loss: 0.2274 - accuracy: 0.9718 - val_loss: 0.0069 - val_accuracy: 0.9973\n",
      "Epoch 39/50\n",
      "150/150 [==============================] - 166s 1s/step - loss: 0.2212 - accuracy: 0.9729 - val_loss: 0.0035 - val_accuracy: 1.0000\n",
      "Epoch 40/50\n",
      "150/150 [==============================] - 166s 1s/step - loss: 0.2177 - accuracy: 0.9724 - val_loss: 0.0061 - val_accuracy: 0.9973\n",
      "Epoch 41/50\n",
      "150/150 [==============================] - 167s 1s/step - loss: 0.2102 - accuracy: 0.9753 - val_loss: 0.0032 - val_accuracy: 1.0000\n",
      "Epoch 42/50\n",
      "150/150 [==============================] - 165s 1s/step - loss: 0.2089 - accuracy: 0.9729 - val_loss: 0.0024 - val_accuracy: 1.0000\n",
      "Epoch 43/50\n",
      "150/150 [==============================] - 167s 1s/step - loss: 0.2029 - accuracy: 0.9748 - val_loss: 0.0019 - val_accuracy: 1.0000\n",
      "Epoch 44/50\n",
      "150/150 [==============================] - 165s 1s/step - loss: 0.1994 - accuracy: 0.9750 - val_loss: 0.0023 - val_accuracy: 1.0000\n",
      "Epoch 45/50\n",
      "150/150 [==============================] - 166s 1s/step - loss: 0.1890 - accuracy: 0.9794 - val_loss: 0.0013 - val_accuracy: 1.0000\n",
      "Epoch 46/50\n",
      "150/150 [==============================] - 173s 1s/step - loss: 0.1940 - accuracy: 0.9742 - val_loss: 9.7670e-04 - val_accuracy: 1.0000\n",
      "Epoch 47/50\n",
      "150/150 [==============================] - 166s 1s/step - loss: 0.1906 - accuracy: 0.9739 - val_loss: 0.0010 - val_accuracy: 1.0000\n",
      "Epoch 48/50\n",
      "150/150 [==============================] - 167s 1s/step - loss: 0.1860 - accuracy: 0.9752 - val_loss: 4.8793e-04 - val_accuracy: 1.0000\n",
      "Epoch 49/50\n",
      "150/150 [==============================] - 173s 1s/step - loss: 0.1817 - accuracy: 0.9760 - val_loss: 5.4230e-04 - val_accuracy: 1.0000\n",
      "Epoch 50/50\n",
      "150/150 [==============================] - 181s 1s/step - loss: 0.1807 - accuracy: 0.9748 - val_loss: 3.3244e-04 - val_accuracy: 1.0000\n"
     ]
    }
   ],
   "source": [
    "from keras.optimizers import Adam \n",
    "EPOCHS = 6\n",
    "IMG_WIDTH = 128\n",
    "IMG_HEIGHT = 128\n",
    "NUM_CATEGORIES = 2\n",
    "TEST_SIZE = 0.2\n",
    "\n",
    "\n",
    "\n",
    "model = tf.keras.models.Sequential([\n",
    "    tf.keras.layers.Conv2D(32, (3, 3),padding='same', activation=\"relu\", input_shape=(128, 128,1)),\n",
    "   # tf.keras.layers.Conv2D(64, (3, 3), activation=\"relu\"),\n",
    "    tf.keras.layers.MaxPooling2D(pool_size=(2, 2)),\n",
    "\n",
    "    \n",
    "    tf.keras.layers.Conv2D(16, (3, 3),padding='same', activation=\"relu\"),\n",
    "   # tf.keras.layers.Conv2D(64, (3, 3), activation=\"relu\"),\n",
    "    tf.keras.layers.MaxPooling2D(pool_size=(2, 2)),\n",
    "\n",
    "    \n",
    "    #tf.keras.layers.Conv2D(64, (3, 3), activation=\"relu\"),\n",
    "    #tf.keras.layers.MaxPooling2D(pool_size=(2, 2)),\n",
    "\n",
    "    \n",
    "   \n",
    "    tf.keras.layers.Flatten(),\n",
    "    tf.keras.layers.Dense(8, activation=\"relu\"),\n",
    "    tf.keras.layers.Dropout(0.5),\n",
    "    tf.keras.layers.Dense(NUM_CATEGORIES, activation=\"softmax\")\n",
    "])\n",
    "\n",
    "model.compile(optimizer = Adam(0.0001), loss = 'sparse_categorical_crossentropy', metrics=['accuracy'])\n",
    "\n",
    "history = model.fit(np.asarray(train_images, dtype=np.float32), np.asarray(train_labels), batch_size=128, epochs=50, validation_split=0.2, shuffle=True)\n"
   ]
  },
  {
   "cell_type": "markdown",
   "metadata": {},
   "source": [
    "### Model Evaluation\n"
   ]
  },
  {
   "cell_type": "code",
   "execution_count": 110,
   "metadata": {},
   "outputs": [],
   "source": [
    "from sklearn.metrics import accuracy_score\n",
    "from sklearn.metrics import confusion_matrix\n",
    "from sklearn.metrics import precision_score\n",
    "from sklearn.metrics import recall_score\n",
    "from sklearn.metrics import f1_score\n",
    "from sklearn.metrics import classification_report\n",
    "from sklearn.metrics import roc_curve, auc"
   ]
  },
  {
   "cell_type": "code",
   "execution_count": 113,
   "metadata": {},
   "outputs": [],
   "source": [
    "test_images = test_images.reshape(-1, 128, 128, 1)"
   ]
  },
  {
   "cell_type": "code",
   "execution_count": 114,
   "metadata": {},
   "outputs": [
    {
     "name": "stdout",
     "output_type": "stream",
     "text": [
      "188/188 [==============================] - 15s 71ms/step - loss: 0.1107 - accuracy: 1.0000\n",
      "Test loss: 0.11066852509975433/Test accuracy: 1.0\n"
     ]
    }
   ],
   "source": [
    "# evaluate how well the model did to predict the labels on the test images\n",
    "score = model.evaluate(test_images, test_labels)\n",
    "print(f'Test loss: {score[0]}/Test accuracy: {score[1]}')"
   ]
  },
  {
   "cell_type": "code",
   "execution_count": 115,
   "metadata": {},
   "outputs": [
    {
     "name": "stdout",
     "output_type": "stream",
     "text": [
      "188/188 [==============================] - 13s 67ms/step\n"
     ]
    }
   ],
   "source": [
    "predict = model.predict(test_images)"
   ]
  },
  {
   "cell_type": "code",
   "execution_count": 117,
   "metadata": {},
   "outputs": [],
   "source": [
    "# assign classes for high probabilities\n",
    "predict_df = pd.DataFrame(predict)\n",
    "class_prediction = predict_df.idxmax(axis=1)"
   ]
  },
  {
   "cell_type": "code",
   "execution_count": 118,
   "metadata": {},
   "outputs": [
    {
     "name": "stdout",
     "output_type": "stream",
     "text": [
      "Accuracy: 1.00\n"
     ]
    }
   ],
   "source": [
    "accuracy = accuracy_score(test_labels, class_predictions)\n",
    "print(f\"Accuracy: {accuracy:.2f}\")\n"
   ]
  },
  {
   "cell_type": "code",
   "execution_count": 119,
   "metadata": {},
   "outputs": [
    {
     "data": {
      "text/plain": [
       "array([[3000,    0],\n",
       "       [   0, 3000]], dtype=int64)"
      ]
     },
     "execution_count": 119,
     "metadata": {},
     "output_type": "execute_result"
    }
   ],
   "source": [
    "conf_matrix = confusion_matrix(test_labels, class_predictions)\n",
    "conf_matrix"
   ]
  },
  {
   "cell_type": "code",
   "execution_count": 120,
   "metadata": {},
   "outputs": [
    {
     "data": {
      "text/plain": [
       "1.0"
      ]
     },
     "execution_count": 120,
     "metadata": {},
     "output_type": "execute_result"
    }
   ],
   "source": [
    "precision = precision_score(test_labels, class_predictions)\n",
    "precision"
   ]
  },
  {
   "cell_type": "code",
   "execution_count": 121,
   "metadata": {},
   "outputs": [
    {
     "name": "stdout",
     "output_type": "stream",
     "text": [
      "              precision    recall  f1-score   support\n",
      "\n",
      "           0       1.00      1.00      1.00      3000\n",
      "           1       1.00      1.00      1.00      3000\n",
      "\n",
      "    accuracy                           1.00      6000\n",
      "   macro avg       1.00      1.00      1.00      6000\n",
      "weighted avg       1.00      1.00      1.00      6000\n",
      "\n"
     ]
    }
   ],
   "source": [
    "# get precision, recall, f1-score values \n",
    "print(classification_report(test_labels, class_predictions))"
   ]
  },
  {
   "cell_type": "code",
   "execution_count": 122,
   "metadata": {},
   "outputs": [],
   "source": [
    "from sklearn.metrics import roc_curve\n",
    "\n",
    "fpr, tpr, thresholds = roc_curve(test_labels, predict[:, 1])"
   ]
  },
  {
   "cell_type": "code",
   "execution_count": 123,
   "metadata": {},
   "outputs": [
    {
     "data": {
      "image/png": "[encoded data removed]",
      "text/plain": [
       "<Figure size 800x600 with 1 Axes>"
      ]
     },
     "metadata": {},
     "output_type": "display_data"
    }
   ],
   "source": [
    "def plot_roc_curve(fpr, tpr, label=None):\n",
    "    plt.plot(fpr, tpr, linewidth=2, label=label)\n",
    "    plt.plot([0, 1], [0, 1], 'k--') # dashed diagonal\n",
    "    plt.axis([0, 1, 0, 1])                                    # Not shown in the book\n",
    "    plt.xlabel('False Positive Rate (Fall-Out)', fontsize=16) # Not shown\n",
    "    plt.ylabel('True Positive Rate (Recall)', fontsize=16)    # Not shown\n",
    "    plt.grid(True)                                            # Not shown\n",
    "\n",
    "plt.figure(figsize=(8, 6))                         # Not shown\n",
    "plot_roc_curve(fpr, tpr)\n",
    "plt.plot([4.837e-3, 4.837e-3], [0., 0.4368], \"r:\") # Not shown\n",
    "plt.plot([0.0, 4.837e-3], [0.4368, 0.4368], \"r:\")  # Not shown\n",
    "plt.plot([4.837e-3], [0.4368], \"ro\")               # Not shown\n",
    "plt.show()"
   ]
  },
  {
   "cell_type": "markdown",
   "metadata": {},
   "source": [
    "## SGD Classifier "
   ]
  },
  {
   "cell_type": "code",
   "execution_count": 124,
   "metadata": {},
   "outputs": [],
   "source": [
    "train_images = train_images.reshape(train_images.shape[0], -1)"
   ]
  },
  {
   "cell_type": "code",
   "execution_count": 125,
   "metadata": {},
   "outputs": [
    {
     "data": {
      "text/html": [
       "<style>#sk-container-id-1 {color: black;background-color: white;}#sk-container-id-1 pre{padding: 0;}#sk-container-id-1 div.sk-toggleable {background-color: white;}#sk-container-id-1 label.sk-toggleable__label {cursor: pointer;display: block;width: 100%;margin-bottom: 0;padding: 0.3em;box-sizing: border-box;text-align: center;}#sk-container-id-1 label.sk-toggleable__label-arrow:before {content: \"▸\";float: left;margin-right: 0.25em;color: #696969;}#sk-container-id-1 label.sk-toggleable__label-arrow:hover:before {color: black;}#sk-container-id-1 div.sk-estimator:hover label.sk-toggleable__label-arrow:before {color: black;}#sk-container-id-1 div.sk-toggleable__content {max-height: 0;max-width: 0;overflow: hidden;text-align: left;background-color: #f0f8ff;}#sk-container-id-1 div.sk-toggleable__content pre {margin: 0.2em;color: black;border-radius: 0.25em;background-color: #f0f8ff;}#sk-container-id-1 input.sk-toggleable__control:checked~div.sk-toggleable__content {max-height: 200px;max-width: 100%;overflow: auto;}#sk-container-id-1 input.sk-toggleable__control:checked~label.sk-toggleable__label-arrow:before {content: \"▾\";}#sk-container-id-1 div.sk-estimator input.sk-toggleable__control:checked~label.sk-toggleable__label {background-color: #d4ebff;}#sk-container-id-1 div.sk-label input.sk-toggleable__control:checked~label.sk-toggleable__label {background-color: #d4ebff;}#sk-container-id-1 input.sk-hidden--visually {border: 0;clip: rect(1px 1px 1px 1px);clip: rect(1px, 1px, 1px, 1px);height: 1px;margin: -1px;overflow: hidden;padding: 0;position: absolute;width: 1px;}#sk-container-id-1 div.sk-estimator {font-family: monospace;background-color: #f0f8ff;border: 1px dotted black;border-radius: 0.25em;box-sizing: border-box;margin-bottom: 0.5em;}#sk-container-id-1 div.sk-estimator:hover {background-color: #d4ebff;}#sk-container-id-1 div.sk-parallel-item::after {content: \"\";width: 100%;border-bottom: 1px solid gray;flex-grow: 1;}#sk-container-id-1 div.sk-label:hover label.sk-toggleable__label {background-color: #d4ebff;}#sk-container-id-1 div.sk-serial::before {content: \"\";position: absolute;border-left: 1px solid gray;box-sizing: border-box;top: 0;bottom: 0;left: 50%;z-index: 0;}#sk-container-id-1 div.sk-serial {display: flex;flex-direction: column;align-items: center;background-color: white;padding-right: 0.2em;padding-left: 0.2em;position: relative;}#sk-container-id-1 div.sk-item {position: relative;z-index: 1;}#sk-container-id-1 div.sk-parallel {display: flex;align-items: stretch;justify-content: center;background-color: white;position: relative;}#sk-container-id-1 div.sk-item::before, #sk-container-id-1 div.sk-parallel-item::before {content: \"\";position: absolute;border-left: 1px solid gray;box-sizing: border-box;top: 0;bottom: 0;left: 50%;z-index: -1;}#sk-container-id-1 div.sk-parallel-item {display: flex;flex-direction: column;z-index: 1;position: relative;background-color: white;}#sk-container-id-1 div.sk-parallel-item:first-child::after {align-self: flex-end;width: 50%;}#sk-container-id-1 div.sk-parallel-item:last-child::after {align-self: flex-start;width: 50%;}#sk-container-id-1 div.sk-parallel-item:only-child::after {width: 0;}#sk-container-id-1 div.sk-dashed-wrapped {border: 1px dashed gray;margin: 0 0.4em 0.5em 0.4em;box-sizing: border-box;padding-bottom: 0.4em;background-color: white;}#sk-container-id-1 div.sk-label label {font-family: monospace;font-weight: bold;display: inline-block;line-height: 1.2em;}#sk-container-id-1 div.sk-label-container {text-align: center;}#sk-container-id-1 div.sk-container {/* jupyter's `normalize.less` sets `[hidden] { display: none; }` but bootstrap.min.css set `[hidden] { display: none !important; }` so we also need the `!important` here to be able to override the default hidden behavior on the sphinx rendered scikit-learn.org. See: https://github.com/scikit-learn/scikit-learn/issues/21755 */display: inline-block !important;position: relative;}#sk-container-id-1 div.sk-text-repr-fallback {display: none;}</style><div id=\"sk-container-id-1\" class=\"sk-top-container\"><div class=\"sk-text-repr-fallback\"><pre>SGDClassifier(random_state=42)</pre><b>In a Jupyter environment, please rerun this cell to show the HTML representation or trust the notebook. <br />On GitHub, the HTML representation is unable to render, please try loading this page with nbviewer.org.</b></div><div class=\"sk-container\" hidden><div class=\"sk-item\"><div class=\"sk-estimator sk-toggleable\"><input class=\"sk-toggleable__control sk-hidden--visually\" id=\"sk-estimator-id-1\" type=\"checkbox\" checked><label for=\"sk-estimator-id-1\" class=\"sk-toggleable__label sk-toggleable__label-arrow\">SGDClassifier</label><div class=\"sk-toggleable__content\"><pre>SGDClassifier(random_state=42)</pre></div></div></div></div></div>"
      ],
      "text/plain": [
       "SGDClassifier(random_state=42)"
      ]
     },
     "execution_count": 125,
     "metadata": {},
     "output_type": "execute_result"
    }
   ],
   "source": [
    "from sklearn.linear_model import SGDClassifier\n",
    "\n",
    "sgd_clf = SGDClassifier(max_iter=1000, tol=1e-3, random_state=42)\n",
    "sgd_clf.fit(train_images, train_labels)"
   ]
  },
  {
   "cell_type": "code",
   "execution_count": 126,
   "metadata": {},
   "outputs": [],
   "source": [
    "test_images = test_images.reshape(test_images.shape[0], -1)"
   ]
  },
  {
   "cell_type": "code",
   "execution_count": 127,
   "metadata": {},
   "outputs": [
    {
     "data": {
      "text/plain": [
       "array([1, 1, 1, ..., 0, 0, 0])"
      ]
     },
     "execution_count": 127,
     "metadata": {},
     "output_type": "execute_result"
    }
   ],
   "source": [
    "sgd_clf.predict(test_images)"
   ]
  },
  {
   "cell_type": "markdown",
   "metadata": {},
   "source": [
    "### Model Evaluation"
   ]
  },
  {
   "cell_type": "code",
   "execution_count": 128,
   "metadata": {},
   "outputs": [],
   "source": [
    "predictions = sgd_clf.predict(test_images)"
   ]
  },
  {
   "cell_type": "code",
   "execution_count": 129,
   "metadata": {},
   "outputs": [
    {
     "data": {
      "text/plain": [
       "0.9738333333333333"
      ]
     },
     "execution_count": 129,
     "metadata": {},
     "output_type": "execute_result"
    }
   ],
   "source": [
    "from sklearn.metrics import accuracy_score\n",
    "\n",
    "# accuracy\n",
    "accuracy = accuracy_score(test_labels, predictions)\n",
    "accuracy"
   ]
  },
  {
   "cell_type": "code",
   "execution_count": 130,
   "metadata": {},
   "outputs": [
    {
     "data": {
      "text/plain": [
       "array([[2843,  157],\n",
       "       [   0, 3000]], dtype=int64)"
      ]
     },
     "execution_count": 130,
     "metadata": {},
     "output_type": "execute_result"
    }
   ],
   "source": [
    "from sklearn.metrics import confusion_matrix\n",
    "\n",
    "# confusion matrix\n",
    "confusion_matrix = confusion_matrix(test_labels, predictions)\n",
    "confusion_matrix"
   ]
  },
  {
   "cell_type": "code",
   "execution_count": 131,
   "metadata": {},
   "outputs": [],
   "source": [
    "tp = confusion_matrix[0,0]\n",
    "tn = confusion_matrix[1,1]\n",
    "fp = confusion_matrix[1,0]\n",
    "fn = confusion_matrix[0,1]"
   ]
  },
  {
   "cell_type": "code",
   "execution_count": 132,
   "metadata": {},
   "outputs": [
    {
     "data": {
      "text/plain": [
       "0.9476666666666667"
      ]
     },
     "execution_count": 132,
     "metadata": {},
     "output_type": "execute_result"
    }
   ],
   "source": [
    "tp_rate = tp / (tp + fn)\n",
    "tp_rate"
   ]
  },
  {
   "cell_type": "code",
   "execution_count": 133,
   "metadata": {},
   "outputs": [
    {
     "data": {
      "text/plain": [
       "0.0"
      ]
     },
     "execution_count": 133,
     "metadata": {},
     "output_type": "execute_result"
    }
   ],
   "source": [
    "fp_rate = fp / (fp + tn)\n",
    "fp_rate"
   ]
  },
  {
   "cell_type": "code",
   "execution_count": 134,
   "metadata": {},
   "outputs": [],
   "source": [
    "from sklearn.metrics import precision_score, recall_score, f1_score"
   ]
  },
  {
   "cell_type": "code",
   "execution_count": 135,
   "metadata": {},
   "outputs": [
    {
     "data": {
      "text/plain": [
       "0.9502692429521697"
      ]
     },
     "execution_count": 135,
     "metadata": {},
     "output_type": "execute_result"
    }
   ],
   "source": [
    "precision_2 = precision_score(test_labels, predictions)\n",
    "precision_2"
   ]
  },
  {
   "cell_type": "code",
   "execution_count": 136,
   "metadata": {},
   "outputs": [
    {
     "data": {
      "text/plain": [
       "1.0"
      ]
     },
     "execution_count": 136,
     "metadata": {},
     "output_type": "execute_result"
    }
   ],
   "source": [
    "recall_2 = recall_score(test_labels, predictions)\n",
    "recall_2"
   ]
  },
  {
   "cell_type": "code",
   "execution_count": 137,
   "metadata": {},
   "outputs": [
    {
     "data": {
      "text/plain": [
       "0.974500568458665"
      ]
     },
     "execution_count": 137,
     "metadata": {},
     "output_type": "execute_result"
    }
   ],
   "source": [
    "f1 = f1_score(test_labels, predictions)\n",
    "f1"
   ]
  },
  {
   "cell_type": "code",
   "execution_count": 138,
   "metadata": {},
   "outputs": [],
   "source": [
    "from sklearn.metrics import roc_curve\n",
    "\n",
    "fpr, tpr, thresholds = roc_curve(test_labels, sgd_clf.decision_function(test_images))"
   ]
  },
  {
   "cell_type": "code",
   "execution_count": 139,
   "metadata": {},
   "outputs": [
    {
     "data": {
      "image/png": "[encoded data removed]",
      "text/plain": [
       "<Figure size 800x600 with 1 Axes>"
      ]
     },
     "metadata": {},
     "output_type": "display_data"
    }
   ],
   "source": [
    "def plot_roc_curve(fpr, tpr, label=None):\n",
    "    plt.plot(fpr, tpr, linewidth=2, label=label)\n",
    "    plt.plot([0, 1], [0, 1], 'k--') # dashed diagonal\n",
    "    plt.axis([0, 1, 0, 1])                                    # Not shown in the book\n",
    "    plt.xlabel('False Positive Rate (Fall-Out)', fontsize=16) # Not shown\n",
    "    plt.ylabel('True Positive Rate (Recall)', fontsize=16)    # Not shown\n",
    "    plt.grid(True)                                            # Not shown\n",
    "\n",
    "plt.figure(figsize=(8, 6))                         # Not shown\n",
    "plot_roc_curve(fpr, tpr)\n",
    "plt.plot([4.837e-3, 4.837e-3], [0., 0.4368], \"r:\") # Not shown\n",
    "plt.plot([0.0, 4.837e-3], [0.4368, 0.4368], \"r:\")  # Not shown\n",
    "plt.plot([4.837e-3], [0.4368], \"ro\")               # Not shown\n",
    "plt.show()"
   ]
  }
 ],
 "metadata": {
  "colab": {
   "include_colab_link": true,
   "provenance": []
  },
  "kernelspec": {
   "display_name": "Python 3 (ipykernel)",
   "language": "python",
   "name": "python3"
  },
  "language_info": {
   "codemirror_mode": {
    "name": "ipython",
    "version": 3
   },
   "file_extension": ".py",
   "mimetype": "text/x-python",
   "name": "python",
   "nbconvert_exporter": "python",
   "pygments_lexer": "ipython3",
   "version": "3.10.9"
  }
 },
 "nbformat": 4,
 "nbformat_minor": 1
}
